{
  "nbformat": 4,
  "nbformat_minor": 0,
  "metadata": {
    "colab": {
      "provenance": []
    },
    "kernelspec": {
      "name": "python3",
      "display_name": "Python 3"
    },
    "language_info": {
      "name": "python"
    }
  },
  "cells": [
    {
      "cell_type": "markdown",
      "source": [
        "# Bag of Words\n",
        "The Bag of Words (BoW) model is a representation technique used in natural language processing (NLP) to convert text documents into numerical vectors.\n",
        "\n",
        "Example:\n",
        "\n",
        "Consider the following two text documents:\n",
        "\n",
        "Document 1: \"The cat sat on the mat.\"\n",
        "\n",
        "Document 2: \"The dog played in the garden.\"\n",
        "\n",
        "### Steps in Bag of Words:\n",
        "\n",
        "Lowercasing: Convert all text to lowercase to ensure uniformity. For example, \"The\" and \"the\" are treated as the same word.\n",
        "\n",
        "Stopwords Removal: Remove common words (stopwords) like \"the\", \"is\", \"in\", etc., which occur frequently but do not carry significant meaning.\n",
        "\n",
        "Vocabulary Frequency Counting: Create a vocabulary of unique words from the remaining words in the documents and count their frequencies.\n",
        "\n",
        "Document Vectorization: Represent each document as a numerical vector based on the vocabulary. The vector elements correspond to the frequency of each word in the vocabulary in the respective document.\n",
        "\n",
        "For the given example documents, the vocabulary might be: [\"cat\", \"dog\", \"sat\", \"played\", \"mat\", \"garden\"].\n",
        "\n",
        "Document 1: [1, 0, 1, 0, 1, 0]\n",
        "\n",
        "Document 2: [0, 1, 0, 1, 0, 1]\n",
        "\n",
        "### Advantages:\n",
        "\n",
        "Easy to Implement: The Bag of Words model is straightforward to implement and understand.\n",
        "\n",
        "Fixed-Sized Input: It generates fixed-sized input vectors, making it suitable for machine learning algorithms that require consistent input dimensions.\n",
        "\n",
        "### Disadvantages:\n",
        "\n",
        "Sparse Matrix Problem: The Bag of Words model often results in high-dimensional and sparse feature vectors, leading to memory and computational inefficiency. This can also lead to overfitting in machine learning models.\n",
        "\n",
        "Ordering of Words: Since Bag of Words disregards word order and context, the meaning of sentences may be altered based on the frequency of words. For example, \"cat sat\" and \"sat cat\" would have the same representation.\n",
        "\n",
        "Out of Vocabulary (OOV): New words that are not present in the vocabulary during training are ignored, leading to loss of information.\n",
        "\n",
        "Semantic Meaning Not Captured: Bag of Words does not capture the semantic relationships between words, leading to a loss of meaning in the text.\n",
        "\n",
        "### N-grams in Bag of Words:\n",
        "\n",
        "To capture more semantic information and preserve word order, N-grams can be used in conjunction with the Bag of Words model. N-grams are contiguous sequences of n words from a given text. For example, instead of considering individual words, we can consider sequences of two or three words (bigrams or trigrams). This allows the model to capture local context and sequential information in the text."
      ],
      "metadata": {
        "id": "QGDpdCq4XLJv"
      }
    },
    {
      "cell_type": "markdown",
      "source": [
        "## Using NLTK:"
      ],
      "metadata": {
        "id": "KuxpzYlYvFah"
      }
    },
    {
      "cell_type": "code",
      "execution_count": null,
      "metadata": {
        "id": "85MrTTdjy5Q9",
        "colab": {
          "base_uri": "https://localhost:8080/"
        },
        "outputId": "d995e6a5-91ce-4bf7-d83a-20f4475ce04d"
      },
      "outputs": [
        {
          "output_type": "stream",
          "name": "stderr",
          "text": [
            "[nltk_data] Downloading package punkt to /root/nltk_data...\n",
            "[nltk_data]   Package punkt is already up-to-date!\n",
            "[nltk_data] Downloading package stopwords to /root/nltk_data...\n",
            "[nltk_data]   Package stopwords is already up-to-date!\n"
          ]
        },
        {
          "output_type": "execute_result",
          "data": {
            "text/plain": [
              "True"
            ]
          },
          "metadata": {},
          "execution_count": 44
        }
      ],
      "source": [
        "import nltk\n",
        "from nltk.corpus import stopwords\n",
        "from nltk.tokenize import word_tokenize\n",
        "from sklearn.feature_extraction.text import CountVectorizer\n",
        "import pandas as pd\n",
        "import numpy as np\n",
        "nltk.download('punkt')\n",
        "nltk.download('stopwords')"
      ]
    },
    {
      "cell_type": "code",
      "source": [
        "documents = [\n",
        "    \"The cat sat on the mat.\",\n",
        "    \"The dog dog played in the garden.\"\n",
        "]"
      ],
      "metadata": {
        "id": "jB8DY_ttwofk"
      },
      "execution_count": null,
      "outputs": []
    },
    {
      "cell_type": "code",
      "source": [
        "tokenized_documents = [word_tokenize(doc.lower()) for doc in documents]\n",
        "tokenized_documents"
      ],
      "metadata": {
        "colab": {
          "base_uri": "https://localhost:8080/"
        },
        "id": "IKmp92hDwoio",
        "outputId": "8e8fbdb3-d0b0-4df1-83ae-523dca3685de"
      },
      "execution_count": null,
      "outputs": [
        {
          "output_type": "execute_result",
          "data": {
            "text/plain": [
              "[['the', 'cat', 'sat', 'on', 'the', 'mat', '.'],\n",
              " ['the', 'dog', 'dog', 'played', 'in', 'the', 'garden', '.']]"
            ]
          },
          "metadata": {},
          "execution_count": 66
        }
      ]
    },
    {
      "cell_type": "code",
      "source": [
        "CountVec = CountVectorizer(stop_words='english')\n",
        "Count_data = CountVec.fit_transform(documents)"
      ],
      "metadata": {
        "id": "MnO6urXOxvvI"
      },
      "execution_count": null,
      "outputs": []
    },
    {
      "cell_type": "code",
      "source": [
        "cv_dataframe=pd.DataFrame(Count_data.toarray(),columns=CountVec.get_feature_names_out())\n",
        "print(cv_dataframe)"
      ],
      "metadata": {
        "colab": {
          "base_uri": "https://localhost:8080/"
        },
        "id": "FtYZ3VCV7deV",
        "outputId": "0502eeeb-d640-4404-9ce9-b38a20d1d2d8"
      },
      "execution_count": null,
      "outputs": [
        {
          "output_type": "stream",
          "name": "stdout",
          "text": [
            "   cat  dog  garden  mat  played  sat\n",
            "0    1    0       0    1       0    1\n",
            "1    0    2       1    0       1    0\n"
          ]
        }
      ]
    },
    {
      "cell_type": "code",
      "source": [
        "# Print the BoW matrix\n",
        "print(Count_data.toarray())"
      ],
      "metadata": {
        "colab": {
          "base_uri": "https://localhost:8080/"
        },
        "id": "KtwQXb641hph",
        "outputId": "0c0dc578-8de0-4deb-d73e-b29241172d6c"
      },
      "execution_count": null,
      "outputs": [
        {
          "output_type": "stream",
          "name": "stdout",
          "text": [
            "[[1 0 0 1 0 1]\n",
            " [0 2 1 0 1 0]]\n"
          ]
        }
      ]
    },
    {
      "cell_type": "code",
      "source": [
        "CountVec.vocabulary_  #Unique words along with their indices"
      ],
      "metadata": {
        "colab": {
          "base_uri": "https://localhost:8080/"
        },
        "id": "1oF_fs_d1wn5",
        "outputId": "c160e8bb-7cce-440a-be5b-bf9d4825fef9"
      },
      "execution_count": null,
      "outputs": [
        {
          "output_type": "execute_result",
          "data": {
            "text/plain": [
              "{'cat': 0, 'sat': 5, 'mat': 3, 'dog': 1, 'played': 4, 'garden': 2}"
            ]
          },
          "metadata": {},
          "execution_count": 70
        }
      ]
    },
    {
      "cell_type": "markdown",
      "source": [
        "NGram"
      ],
      "metadata": {
        "id": "KDpvmds94v8e"
      }
    },
    {
      "cell_type": "code",
      "source": [
        "CountVec = CountVectorizer(ngram_range=(1,1), # to use bigrams ngram_range=(2,2)\n",
        "                           stop_words='english',\n",
        "                           max_features=5, #  limits the maximum number of features (i.e., unique words), in this case there are 6 it will display 5\n",
        "                           binary=True # for Binary BOW - binary=True\n",
        "                           )\n",
        "\n",
        "Count_data = CountVec.fit_transform(documents)"
      ],
      "metadata": {
        "id": "ZEHi7O462r-x"
      },
      "execution_count": null,
      "outputs": []
    },
    {
      "cell_type": "code",
      "source": [
        "cv_dataframe=pd.DataFrame(Count_data.toarray(),columns=CountVec.get_feature_names_out())\n",
        "print(cv_dataframe)"
      ],
      "metadata": {
        "colab": {
          "base_uri": "https://localhost:8080/"
        },
        "id": "gHSFsmbr8BLK",
        "outputId": "32dff638-6cb4-4e91-c643-03c304b8c552"
      },
      "execution_count": null,
      "outputs": [
        {
          "output_type": "stream",
          "name": "stdout",
          "text": [
            "   cat  dog  garden  mat  played\n",
            "0    1    0       0    1       0\n",
            "1    0    1       1    0       1\n"
          ]
        }
      ]
    },
    {
      "cell_type": "code",
      "source": [
        "CountVec = CountVectorizer(ngram_range=(2,2), # to use bigrams ngram_range=(2,2)\n",
        "                           stop_words='english',\n",
        "                           max_features=5, #  limits the maximum number of features (i.e., unique words), in this case there are 6 it will display 5\n",
        "                           binary=True # for Binary BOW - binary=True\n",
        "                           )\n",
        "Count_data = CountVec.fit_transform(documents)\n",
        "cv_dataframe=pd.DataFrame(Count_data.toarray(),columns=CountVec.get_feature_names_out())\n",
        "print(cv_dataframe)"
      ],
      "metadata": {
        "colab": {
          "base_uri": "https://localhost:8080/"
        },
        "id": "312XsRo18EPy",
        "outputId": "839d55c0-7dfb-44a2-d274-41d02cf518a6"
      },
      "execution_count": null,
      "outputs": [
        {
          "output_type": "stream",
          "name": "stdout",
          "text": [
            "   cat sat  dog dog  dog played  played garden  sat mat\n",
            "0        1        0           0              0        1\n",
            "1        0        1           1              1        0\n"
          ]
        }
      ]
    },
    {
      "cell_type": "markdown",
      "source": [
        "## Using spaCy:"
      ],
      "metadata": {
        "id": "6u5_pXDR9NGU"
      }
    },
    {
      "cell_type": "code",
      "source": [
        "import spacy\n",
        "# Load the English language model in SpaCy\n",
        "nlp = spacy.load(\"en_core_web_sm\")"
      ],
      "metadata": {
        "id": "b0zgDQ3_8v0L"
      },
      "execution_count": null,
      "outputs": []
    },
    {
      "cell_type": "code",
      "source": [
        "documents = [\n",
        "    \"The cat sat on the mat.\",\n",
        "    \"The dog dog played in the garden.\"\n",
        "]"
      ],
      "metadata": {
        "id": "VyPrcKhT9vKD"
      },
      "execution_count": null,
      "outputs": []
    },
    {
      "cell_type": "code",
      "source": [
        "# Tokenize and preprocess the documents using spaCy\n",
        "tokenized_documents = [[token.text.lower() for token in nlp(doc)] for doc in documents]\n",
        "tokenized_documents"
      ],
      "metadata": {
        "colab": {
          "base_uri": "https://localhost:8080/"
        },
        "id": "_MIbaO3n9vMe",
        "outputId": "ae4def54-7162-4298-8c02-1ca7ef102c0e"
      },
      "execution_count": null,
      "outputs": [
        {
          "output_type": "execute_result",
          "data": {
            "text/plain": [
              "[['the', 'cat', 'sat', 'on', 'the', 'mat', '.'],\n",
              " ['the', 'dog', 'dog', 'played', 'in', 'the', 'garden', '.']]"
            ]
          },
          "metadata": {},
          "execution_count": 85
        }
      ]
    },
    {
      "cell_type": "code",
      "source": [
        "CountVec = CountVectorizer(ngram_range=(1, 1), stop_words='english', binary=True)\n",
        "\n",
        "# Transform the tokenized documents into Bag of Words representation\n",
        "Count_data = CountVec.fit_transform([' '.join(doc) for doc in tokenized_documents])"
      ],
      "metadata": {
        "id": "ICzYkC0j9vPO"
      },
      "execution_count": null,
      "outputs": []
    },
    {
      "cell_type": "code",
      "source": [
        "# Create DataFrame from the Bag of Words representation\n",
        "cv_dataframe = pd.DataFrame(Count_data.toarray(), columns=CountVec.get_feature_names_out())\n",
        "print(cv_dataframe)"
      ],
      "metadata": {
        "colab": {
          "base_uri": "https://localhost:8080/"
        },
        "id": "m8HdCzXF9_Ec",
        "outputId": "2fbfd2a2-cc5e-4615-cc89-02bcf2525e10"
      },
      "execution_count": null,
      "outputs": [
        {
          "output_type": "stream",
          "name": "stdout",
          "text": [
            "   cat  dog  garden  mat  played  sat\n",
            "0    1    0       0    1       0    1\n",
            "1    0    1       1    0       1    0\n"
          ]
        }
      ]
    },
    {
      "cell_type": "code",
      "source": [
        "# Print the Bag of Words representation as a dense matrix\n",
        "print(Count_data.toarray())"
      ],
      "metadata": {
        "colab": {
          "base_uri": "https://localhost:8080/"
        },
        "id": "vmMxHTcx-BSr",
        "outputId": "10ad7aa0-8de5-4ebe-95f5-adc3524e855a"
      },
      "execution_count": null,
      "outputs": [
        {
          "output_type": "stream",
          "name": "stdout",
          "text": [
            "[[1 0 0 1 0 1]\n",
            " [0 1 1 0 1 0]]\n"
          ]
        }
      ]
    },
    {
      "cell_type": "code",
      "source": [
        "print(CountVec.vocabulary_) # (word to index mapping)"
      ],
      "metadata": {
        "colab": {
          "base_uri": "https://localhost:8080/"
        },
        "id": "-a7gHBCv-EFy",
        "outputId": "beee8a23-7ed9-4be6-eb83-b85ecb7a8197"
      },
      "execution_count": null,
      "outputs": [
        {
          "output_type": "stream",
          "name": "stdout",
          "text": [
            "{'cat': 0, 'sat': 5, 'mat': 3, 'dog': 1, 'played': 4, 'garden': 2}\n"
          ]
        }
      ]
    }
  ]
}