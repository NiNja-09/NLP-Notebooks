{
  "nbformat": 4,
  "nbformat_minor": 0,
  "metadata": {
    "colab": {
      "provenance": []
    },
    "kernelspec": {
      "name": "python3",
      "display_name": "Python 3"
    },
    "language_info": {
      "name": "python"
    }
  },
  "cells": [
    {
      "cell_type": "markdown",
      "source": [
        "# Named Entity Recognition\n",
        "Named Entity Recognition (NER) is a natural language processing task that involves identifying and classifying named entities in text into predefined categories such as person names, organization names, locations, dates, monetary values, etc. NER is used to extract meaningful information from unstructured text and is an essential component in various NLP applications such as information retrieval, question answering, and entity linking."
      ],
      "metadata": {
        "id": "RsVKhh-E_KcD"
      }
    },
    {
      "cell_type": "markdown",
      "source": [
        "### Using NLTK"
      ],
      "metadata": {
        "id": "FViRDX8p_a6_"
      }
    },
    {
      "cell_type": "code",
      "execution_count": null,
      "metadata": {
        "id": "KOA4doi__I_S"
      },
      "outputs": [],
      "source": [
        "corpus = \"\"\"Apple Inc. is headquartered in Cupertino, California.\n",
        "The company was founded by Steve Jobs, Steve Wozniak, and Ronald Wayne in 1976.\n",
        "It is known for its iPhone, iPad, Mac, and other consumer electronics products.\n",
        "Google LLC is an American multinational technology company that specializes in Internet-related services and products.\"\"\""
      ]
    },
    {
      "cell_type": "code",
      "source": [
        "import nltk\n",
        "nltk.download('punkt')\n",
        "nltk.download('averaged_perceptron_tagger')\n",
        "nltk.download('maxent_ne_chunker')\n",
        "nltk.download('words')"
      ],
      "metadata": {
        "colab": {
          "base_uri": "https://localhost:8080/"
        },
        "id": "aUJarGXm_3W-",
        "outputId": "76eac2ac-d827-418f-da2c-d090f62375d4"
      },
      "execution_count": null,
      "outputs": [
        {
          "output_type": "stream",
          "name": "stderr",
          "text": [
            "[nltk_data] Downloading package punkt to /root/nltk_data...\n",
            "[nltk_data]   Package punkt is already up-to-date!\n",
            "[nltk_data] Downloading package averaged_perceptron_tagger to\n",
            "[nltk_data]     /root/nltk_data...\n",
            "[nltk_data]   Package averaged_perceptron_tagger is already up-to-\n",
            "[nltk_data]       date!\n",
            "[nltk_data] Downloading package maxent_ne_chunker to\n",
            "[nltk_data]     /root/nltk_data...\n",
            "[nltk_data]   Package maxent_ne_chunker is already up-to-date!\n",
            "[nltk_data] Downloading package words to /root/nltk_data...\n",
            "[nltk_data]   Package words is already up-to-date!\n"
          ]
        },
        {
          "output_type": "execute_result",
          "data": {
            "text/plain": [
              "True"
            ]
          },
          "metadata": {},
          "execution_count": 12
        }
      ]
    },
    {
      "cell_type": "code",
      "source": [
        "words = nltk.word_tokenize(corpus)\n",
        "\n",
        "pos_tags = nltk.pos_tag(words)\n",
        "\n",
        "chunks = nltk.ne_chunk(pos_tags)"
      ],
      "metadata": {
        "id": "qDY7eMaG_3cu"
      },
      "execution_count": null,
      "outputs": []
    },
    {
      "cell_type": "code",
      "source": [
        "named_entities = []\n",
        "for chunk in chunks:\n",
        "    if hasattr(chunk, 'label'):\n",
        "        named_entities.append((chunk.label(), ' '.join(c[0] for c in chunk)))\n",
        "\n",
        "print(\"Named Entities using NLTK:\")\n",
        "print(named_entities)"
      ],
      "metadata": {
        "colab": {
          "base_uri": "https://localhost:8080/"
        },
        "id": "rSu3DTxlBBsM",
        "outputId": "36ce6288-b776-4d94-d671-ffbf5f95e2dc"
      },
      "execution_count": null,
      "outputs": [
        {
          "output_type": "stream",
          "name": "stdout",
          "text": [
            "Named Entities using NLTK:\n",
            "[('PERSON', 'Apple'), ('ORGANIZATION', 'Inc.'), ('GPE', 'Cupertino'), ('GPE', 'California'), ('PERSON', 'Steve Jobs'), ('PERSON', 'Steve Wozniak'), ('PERSON', 'Ronald Wayne'), ('ORGANIZATION', 'iPhone'), ('ORGANIZATION', 'iPad'), ('PERSON', 'Mac'), ('PERSON', 'Google LLC'), ('GPE', 'American')]\n"
          ]
        }
      ]
    },
    {
      "cell_type": "code",
      "source": [
        "chunks.draw()"
      ],
      "metadata": {
        "id": "m45KXqWZBBu5"
      },
      "execution_count": null,
      "outputs": []
    },
    {
      "cell_type": "markdown",
      "source": [
        "### Using spaCy"
      ],
      "metadata": {
        "id": "BEFBzRmP_c1C"
      }
    },
    {
      "cell_type": "code",
      "source": [
        "import spacy\n",
        "nlp = spacy.load(\"en_core_web_sm\")"
      ],
      "metadata": {
        "id": "T7HOwWBT_fWk"
      },
      "execution_count": null,
      "outputs": []
    },
    {
      "cell_type": "code",
      "source": [
        "doc = nlp(corpus)\n",
        "\n",
        "named_entities = [(ent.text, ent.label_) for ent in doc.ents]"
      ],
      "metadata": {
        "id": "NZfNfgLUB-5V"
      },
      "execution_count": null,
      "outputs": []
    },
    {
      "cell_type": "code",
      "source": [
        "print(\"Named Entities using SpaCy:\")\n",
        "print(named_entities)"
      ],
      "metadata": {
        "colab": {
          "base_uri": "https://localhost:8080/"
        },
        "id": "2SWAlnLjB-8M",
        "outputId": "693fe5ab-7101-4b3f-990c-70000fe464c3"
      },
      "execution_count": null,
      "outputs": [
        {
          "output_type": "stream",
          "name": "stdout",
          "text": [
            "Named Entities using SpaCy:\n",
            "[('Apple Inc.', 'ORG'), ('Cupertino', 'GPE'), ('California', 'GPE'), ('Steve Jobs', 'PERSON'), ('Steve Wozniak', 'PERSON'), ('Ronald Wayne', 'PERSON'), ('1976', 'DATE'), ('iPhone', 'ORG'), ('iPad', 'ORG'), ('Mac', 'PERSON'), ('Google LLC', 'ORG'), ('American', 'NORP')]\n"
          ]
        }
      ]
    }
  ]
}