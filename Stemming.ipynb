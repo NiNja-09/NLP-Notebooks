{
  "nbformat": 4,
  "nbformat_minor": 0,
  "metadata": {
    "colab": {
      "provenance": []
    },
    "kernelspec": {
      "name": "python3",
      "display_name": "Python 3"
    },
    "language_info": {
      "name": "python"
    }
  },
  "cells": [
    {
      "cell_type": "markdown",
      "source": [
        "# Stemming\n",
        "Stemming is a text normalization technique used in natural language processing (NLP) and information retrieval to reduce words to their root or base form, called the stem. The purpose of stemming is to group words with similar meanings together, despite variations in their suffixes or prefixes.\n",
        "\n",
        "Original words: \"running\", \"runs\", \"ran\", \"runner\"\n",
        "\n",
        "Stemmed form: \"run\"\n",
        "\n",
        "### Different types of stemming algorithms commonly used in NLP:\n",
        "\n",
        "Porter Stemmer:One of the oldest and most widely used stemming algorithms developed by Martin Porter. It applies a series of rules to strip suffixes from words.\n",
        "\n",
        "Snowball Stemmer: Also developed by Martin Porter, this stemming algorithm is an improvement over the Porter Stemmer and supports multiple languages.\n",
        "\n",
        "Lancaster Stemmer: A highly aggressive stemming algorithm that tends to produce more aggressive stemming than the Porter Stemmer.\n",
        "\n",
        "Lovins Stemmer: Developed by Julie Beth Lovins, this stemming algorithm is similar to the Porter Stemmer but with different rules.\n",
        "\n",
        "### Drawbacks of stemming:\n",
        "\n",
        "Overstemming: Stemming algorithms may sometimes over-simplify words, resulting in unrelated words being grouped together. For example, \"universe\" and \"university\" both stem to \"univers\", which can lead to confusion.\n",
        "\n",
        "Understemming: Stemming algorithms may fail to reduce words to their appropriate stems, resulting in words with similar meanings being treated as separate entities. For example, \"computer\" and \"computing\" might not stem to the same root, even though they are related.\n",
        "\n",
        "Loss of meaning: Stemming can sometimes result in loss of meaning, as it removes affixes from words without considering the semantics. For example, \"connection\" and \"connectivity\" both stem to \"connect\", losing the distinction in meaning.\n",
        "\n",
        "### Usage:\n",
        "Stemming is typically used in applications where the focus is on information retrieval, such as search engines, document clustering, and text mining. It helps in reducing the vocabulary size and simplifying text for analysis. However, stemming might not be suitable in applications where preserving the exact meaning of words is crucial, such as sentiment analysis or machine translation, as it can lead to loss of semantic information. In such cases, lemmatization, which considers the context of words and their morphological analysis, may be preferred over stemming."
      ],
      "metadata": {
        "id": "VaMcwZvxSrr1"
      }
    },
    {
      "cell_type": "markdown",
      "source": [
        "## Porter Stemmer"
      ],
      "metadata": {
        "id": "4Fw7wkBFUC_Q"
      }
    },
    {
      "cell_type": "code",
      "execution_count": null,
      "metadata": {
        "id": "mtShHkwhSUrP"
      },
      "outputs": [],
      "source": [
        "from nltk.stem import PorterStemmer"
      ]
    },
    {
      "cell_type": "code",
      "source": [
        "stemmer = PorterStemmer()"
      ],
      "metadata": {
        "id": "oKvwT3WQUBTM"
      },
      "execution_count": null,
      "outputs": []
    },
    {
      "cell_type": "code",
      "source": [
        "plurals = ['caresses', 'flies', 'dies', 'mules', 'denied',\n",
        "'died', 'agreed', 'owned', 'humbled', 'sized',\n",
        "'meeting', 'stating', 'siezing', 'itemization',\n",
        "'sensational', 'traditional', 'reference', 'colonizer','plotted']"
      ],
      "metadata": {
        "id": "0ZlBuy4MUCnA"
      },
      "execution_count": null,
      "outputs": []
    },
    {
      "cell_type": "code",
      "source": [
        "for plural in plurals:\n",
        "  print(plural+\"--->\"+stemmer.stem(plural))"
      ],
      "metadata": {
        "colab": {
          "base_uri": "https://localhost:8080/"
        },
        "id": "AsODUCFkUc0j",
        "outputId": "c70f7bdc-b7e9-4d78-8cad-2d5ae07a36c7"
      },
      "execution_count": null,
      "outputs": [
        {
          "output_type": "stream",
          "name": "stdout",
          "text": [
            "caresses--->caress\n",
            "flies--->fli\n",
            "dies--->die\n",
            "mules--->mule\n",
            "denied--->deni\n",
            "died--->die\n",
            "agreed--->agre\n",
            "owned--->own\n",
            "humbled--->humbl\n",
            "sized--->size\n",
            "meeting--->meet\n",
            "stating--->state\n",
            "siezing--->siez\n",
            "itemization--->item\n",
            "sensational--->sensat\n",
            "traditional--->tradit\n",
            "reference--->refer\n",
            "colonizer--->colon\n",
            "plotted--->plot\n"
          ]
        }
      ]
    },
    {
      "cell_type": "markdown",
      "source": [
        "## Snowball Stemmer"
      ],
      "metadata": {
        "id": "9elJwC-VVCm0"
      }
    },
    {
      "cell_type": "code",
      "source": [
        "from nltk.stem import SnowballStemmer"
      ],
      "metadata": {
        "id": "9T2s-DqsVEfU"
      },
      "execution_count": null,
      "outputs": []
    },
    {
      "cell_type": "code",
      "source": [
        "stemmer = SnowballStemmer(\"english\")"
      ],
      "metadata": {
        "id": "mu-sm74MVIfb"
      },
      "execution_count": null,
      "outputs": []
    },
    {
      "cell_type": "code",
      "source": [
        "for plural in plurals:\n",
        "  print(plural+\"--->\"+stemmer.stem(plural))"
      ],
      "metadata": {
        "colab": {
          "base_uri": "https://localhost:8080/"
        },
        "id": "QoAJBI1uVLpz",
        "outputId": "e8bae65d-c0fa-4d04-fb83-4ebce5b25ae2"
      },
      "execution_count": null,
      "outputs": [
        {
          "output_type": "stream",
          "name": "stdout",
          "text": [
            "caresses--->caress\n",
            "flies--->fli\n",
            "dies--->die\n",
            "mules--->mule\n",
            "denied--->deni\n",
            "died--->die\n",
            "agreed--->agre\n",
            "owned--->own\n",
            "humbled--->humbl\n",
            "sized--->size\n",
            "meeting--->meet\n",
            "stating--->state\n",
            "siezing--->siez\n",
            "itemization--->item\n",
            "sensational--->sensat\n",
            "traditional--->tradit\n",
            "reference--->refer\n",
            "colonizer--->colon\n",
            "plotted--->plot\n"
          ]
        }
      ]
    },
    {
      "cell_type": "markdown",
      "source": [
        "## RegexpStemmer"
      ],
      "metadata": {
        "id": "AXM2D7pcWldi"
      }
    },
    {
      "cell_type": "code",
      "source": [
        "from nltk.stem import RegexpStemmer"
      ],
      "metadata": {
        "id": "-vywoW4iVPyi"
      },
      "execution_count": null,
      "outputs": []
    },
    {
      "cell_type": "code",
      "source": [
        "regexp_stemmer = RegexpStemmer('(s|es|ed|ing|er|ion)$')"
      ],
      "metadata": {
        "id": "XB1wrGFbWsnC"
      },
      "execution_count": null,
      "outputs": []
    },
    {
      "cell_type": "code",
      "source": [
        "for plural in plurals:\n",
        "  print(plural+\"--->\"+regexp_stemmer.stem(plural))"
      ],
      "metadata": {
        "colab": {
          "base_uri": "https://localhost:8080/"
        },
        "id": "_6rh8QlkW21z",
        "outputId": "64820f10-bda8-41ba-9a0b-529b91304b78"
      },
      "execution_count": null,
      "outputs": [
        {
          "output_type": "stream",
          "name": "stdout",
          "text": [
            "caresses--->caress\n",
            "flies--->fli\n",
            "dies--->di\n",
            "mules--->mul\n",
            "denied--->deni\n",
            "died--->di\n",
            "agreed--->agre\n",
            "owned--->own\n",
            "humbled--->humbl\n",
            "sized--->siz\n",
            "meeting--->meet\n",
            "stating--->stat\n",
            "siezing--->siez\n",
            "itemization--->itemizat\n",
            "sensational--->sensational\n",
            "traditional--->traditional\n",
            "reference--->reference\n",
            "colonizer--->coloniz\n",
            "plotted--->plott\n"
          ]
        }
      ]
    },
    {
      "cell_type": "code",
      "source": [],
      "metadata": {
        "id": "N7218e0UXKRK"
      },
      "execution_count": null,
      "outputs": []
    }
  ]
}