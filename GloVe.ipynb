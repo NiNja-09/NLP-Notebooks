{
  "nbformat": 4,
  "nbformat_minor": 0,
  "metadata": {
    "colab": {
      "provenance": [],
      "gpuType": "T4"
    },
    "kernelspec": {
      "name": "python3",
      "display_name": "Python 3"
    },
    "language_info": {
      "name": "python"
    },
    "accelerator": "GPU"
  },
  "cells": [
    {
      "cell_type": "markdown",
      "source": [
        "# Global Vector(GloVe)\n",
        "GloVe (Global Vectors for Word Representation) is an unsupervised learning algorithm for obtaining vector representations for words. Unlike Word2Vec, which focuses on predicting the context of a word given its surrounding words (either using the CBOW or Skip-gram architectures), GloVe aims to directly learn the relationship between words based on their co-occurrence statistics in the corpus.\n",
        "\n",
        "## How GloVe works:\n",
        "\n",
        "Corpus: \"The cat sat on the mat. The dog played in the garden.\"\n",
        "\n",
        "#### Step 1 - Co-occurrence Matrix:\n",
        "Consider a window size of 1. The co-occurrence matrix counts how often each word appears in the context of every other word.\n",
        "\n",
        "For instance, \"cat\" and \"sat\" co-occur once, \"dog\" and \"played\" co-occur once, etc.\n",
        "\n",
        "![Capture.PNG](data:image/png;base64,iVBORw0KGgoAAAANSUhEUgAAAtEAAAFoCAYAAACR5KcnAAAAAXNSR0IArs4c6QAAAARnQU1BAACxjwv8YQUAAAAJcEhZcwAADsMAAA7DAcdvqGQAADvnSURBVHhe7ZxBjitLtXb/qdB5k2AESDwJwTwYAKWCMXDblKqLkIAGSC7pR0K6Teq0zgQsXbqeg58zI9NOpyOzyjsdFbH3txpLj1N2nXP2ii8iPuepd//fz372syMAAAAAAHweSjQAAAAAwJ1QogEAAAAA7oQSDQAAAABwJ5RoAAAAAIA7oUQDAAAAANwJJRoAAAAA4E4o0QAAAAAAd0KJBgAAAAC4E0o0AAAAAMCdUKIBAAAAAO6EEg0AAAAAcCeUaAAAAACAO6FEAwAAAADcCSUaAAAAAOBOHl6in5+fj//+97+P+/3++N///hcAAAAAPslut8t+HR7Lf/7zn+Of/vSn4y9/+ctsn/0MDyvRP//5z/vy/Je//OX429/+9vi///u/x1/84hdQgG7xc1+PitK8kWclt7rgIoGH8kRwTE6+hj/84Q/Hv//9732Z/s1vfpPtth/xsBLdFeh//vOf2b8oPBa1DaY0b+RZya0uuEjgoTwRHJOTr+Uf//hHX6S7/53rt2s8pEQ/PT31T6DnfzEog9oGU5o38qzkVhdcJPBQngiOycnX0z2R7n60I9dx13hIie6eQnc/wpH7i8HjUdtgSvNGnpXc6oKLBB7KE8ExOfl6fv/73/dPo3Mdd42HlOju/4mQn4H+OtQ2mNK8kWclt7rgIoGH8kRwTE7q0HnPddw1HlKiWfCvRc230ryRZyW3uuAigYfyRHBMTurQec913DUo0Q5R8600b+RZya0uuEjgoTwRHJOTOnTecx13DUq0Q9R8K80beVZyqwsuEngoTwTH5KQOnfdcx12DEu0QNd9K80aeldzqgosEHsoTwTE5qUPnPddx16BEO0TNt9K8kWclt7rgIoGH8kRwTE7q0HnPddw1KNEOUfOtNG/kWcmtLrhI4KE8ERyTkzp03nMddw1KtEPUfCvNG3lWcqsLLhJ4KE8Ex+SkDp33XMddo1KJ/uH440+H4+FwOH7/2+Trf/vef+3w/a+Xr/3xx+NP3dcO349/Hb+2kR9+/Kn/c3768Yfs662jtsGU5o0866Nm++v3zNnRIGr7dI3HuBjvjZ+OP/4x93r7FMnEeEf+9OPxh9zrBWnxLrU6bulcafvs+Ovxe5e3B3ayVui85zruGtWeRI+bb1qYxxBfHQa5Yr0RSvT91Dxgvnremvlo+/Dchmm2TEGgRN9HC74e44ISnYUSfYXVMSX6s1Cip9T7cY6bjX95Oj09JEsEmxJ9P5Tor6Htw3MbjzknKNH3QoluhyKZoERfEeEMbXsGSvSUij8TPS7EcCCOB8FAOvBvD81x045MN+/5svg+PL0eD5XxaXbPT6fXdUv06Gjk6mK98nRiePo//56vPqyt886zcvX3nuVtfO3me774oCiztpd9NGa/p/V1nK/RiW6mm33ec71O83WsUSBta7mwVt1evNqf1/MurX3tvTtizfXV3/+n78fvNyV6vEdGZvt1dqadM/PAf9m8B5OH87/GnuafzHK+v3IlOnuWz+7c/r2Xh1cpMzOf87xc/b5t3qVbs9Z7ODsdM5f4qjmtM3wm70tnRW7m9NolIz3nHE722vysPv95bdw9n6Xznuu4a1T9fyy8Cu2w+N9/HBajW4TZ4XBbcBJjsLMXxvwwmaBWom/8DEz9z+kcZb1mfv9SmOZdWvdprjKveS3Rq2s7PwQnfOUeuHu2zDp18yzNOh7cS+dEcvF12NZyea1uGObN+0hFqfbeHbG4WFzncwmcF+iRYc+unP2ju6/moWfZiT7Ts3ty7SwfXzvv+/F7ex8LPj/4fTtauku3nqFXTm+YfgApx6Nz8pmzIn/erp1Hwz5bctX/mW3cPZ+l857ruGtULdHnRT/JTovbLcogfVqArzb4JMTnxUuLeQ7IEJiO8WuXBbssaouL+BlMvmeu+q+d/HYOfvjjqSj/7eKs41xEZpvvq4tIh2Xe8e9/WeNTfobL4IfTrFdFYszZ+PrN934dj1zby0yXzI/rN1/fr2DTbONFfuJmT1/NmjknZut7/r0LYzsXb9fqfK6Nf//ZvH+92pPL319j747c72LtvE9fy2V4mo2bnJyokfsppkxk8nueo/vabI+sn+Wj1+s7s8vGrZvrLN36bPMute272T65OVNv91VJLDN8nPcPzorZ/urfc+PhxJjHWYYuf+507956q70H1+i85zruGnVL9HnzD/98MB4C/aL8dPwpt8CTg+QSgrToV5sg8/r4546L2NLGv4dNB/FacM8bZsLw/lu3X4c1X+fNOnKVnXGj375eMx+PW9vpZZnZB5/Jw4MxzZbZ9zdZnL4nl+GRq/Uvjy23t2t1k8eMk5usnxj91Ny7I3e7yMz48Xl/YpLr8fXlUjH5vi/iYfs7l/mpq9w+GL5/dPD9VLb7M2L4vtFXjssTyfbvUtu+m+Up4/Qr95Flhs/mffGsyOXo03dLji4rbdw9n6Xznuu4a9Qt0bMFOC/+KLln/AQ0/XQzfP/5oLj+RDQN+W2wLn9mSxv/Hky+Z67Gr30fHCRPy0H/ygNkji1fXV4ms07muVwiw2uzw6PmxfCwtR3n7Wdq4yDbNNvaZXb1nukBP7x+mv+HycX/Vdhye7tWN3nMzbvip+beHbnfxdp5n76WKwjjrL2r8/szVLrATZm42svpa+fZu6/N9khysLLXZ17GXGXPvVMJmufq8nqbd6lt3832yczpzeuT7yvBprMyR7/2H5wVmZkvv2fmbhm+lvPS/et2+t9t3D2fpfOe67hrVC7RlwW4knw+QE9MFvR8cMwYN3A25OcFv6WljX8PWw+JWw///3wY3pLW5ep7p5vsC7DMuzxr5me8J3TZuc7ZtIyV59Frm/ZCgBI9mWec9bzPZ4f/0jnhIbd3l+iZnyuGeWvu3ZFH7uGLm8k9cUXuwk+4/n8szNDvgav8X4rtLaO36Xum59uSz+HPcXKXbj1Db51mXp98XwmsM6zm/aOzIjPzdVbmDNlZ/H27vLVx93yWznuu465RvURfFn26mS8LN9+c8wty+vpiyK+CxX+d4+Ji4mq2EX768cfrJ0HT17/4Ir5/3h+OP/wts7HPm3Z2WXz/8Zy35GP6uo8S3bG4tuf9VPcgs842naub6WafZw7/tXPiq7DNe7tWqyV68nri9H0/Dms7+qi4d0cesfam/zrHjPH3q3X2mzyc9+r4X0WYzTDP/3S9+/fNzvKr33O+/z/w6eAu3Zq1/lzJnCk3505BrDPMmed99azIzJyYFenP/Nc5zr8HJfpTPGrB4XOo+VaaN/Ks5FaXOi5ml/+ZaQn/WkweHlk6rspOPQ8libDvbDO0l3dvdN5zHXcNSrRD1HwrzRt5VnKrSw0X83+NaKFQmDwUKtFf8US1BhH2nWWGFvPujc57ruOuQYl2iJpvpXkjz0pudcFFAg/lieCYnNSh857ruGtQoh2i5ltp3sizkltdcJHAQ3kiOCYndei85zruGpRoh6j5Vpo38qzkVhdcJPBQngiOyUkdOu+5jrsGJdohar6V5o08K7nVBRcJPJQngmNyUofOe67jrkGJdoiab6V5I89KbnXBRQIP5YngmJzUofOe67hrUKIdouZbad7Is5JbXXCRwEN5IjgmJ3XovOc67hqUaIeo+VaaN/Ks5FYXXCTwUJ4IjslJHTrvuY67BiXaIWq+leaNPCu51QUXCTyUJ4JjclKHznuu467xsBINAAAAANvY7XbZr0NZOu+5jrvGw0p07utQBjXfSvNGnpXc6oKLBB7KE8ExOamDxTsl2iFqvpXmjTwrudUFFwk8lCeCY3JSB4t3SrRD1HwrzRt5VnKrCy4SeChPBMfkpA4W75Roh6j5Vpo38qzkVhdcJPBQngiOyUkdLN4p0Q5R8600b+RZya0uuEjgoTwRHJOTOli8U6IdouZbad7Is5JbXXCRwEN5IjgmJ3WweKdEO0TNt9K8kWclt7rgIoGH8kRwTE7qYPFOiXaImm+leSPPSm51wUUCD+WJ4Jic1MHinRLtEDXfSvNGnpXc6oKLBB7KE8ExOamDxTsl2iFqvpXmjTwrudUFFwk8lCeCY3JSB4t3SrRD1HwrzRt5VnKrCy4SeChPBMfkpA4W75Roh6j5Vpo38qzkVhdcJPBQngiOyUkdLN4p0Q7Z5Ptpd9wfDsfDwP7tOf++htiWr5fj+2F/3D3lXmuPyGu7ZbaXb5e5Dof340vmPa2htk/XsLvo9u9k7b+9ZN7jB7U9UINN+66RvG2Z4fltP8mJn7uvBSzenZboFPT319xr8TH7Hi7mi7fksfULelO+Xt9dHSSR19Y6W18e9rvj8/DrdEm0XyLU9ukaNhfzuZ+Pu329YvMI1PZADcz7rqG8WWe4yYWz+682Fu+UaIdsOojnB0J/Ybe9ySzzXj+1iV+iPaytabaFGbLzNobaPl3D4qIvBJPimPB99qvtgRpY911LebPNkP+75ueCHBbvlUv08ElvLDtXC730WgrK+euCn8YfucE8XEr2fJ2QeBLtY20tsy1dAB4uBrV9usb9LtL5f/v0fenrPlDbAzWw7bu28maaob/rMn1o6etwg8V7xRI9lOTJJ+nLJ+v5a+kCuQTZ94WyFZPvxSdZ7V9KtnwNKJRoJ2trmW3xaZuDi0Ftn65xv4vlM97zE1i1PVAD075rLG+WGRY/VDn/V6yvxOK9XonOHQBPz8fn15fT107/d7bg10GmROe+vgolOv96Y0ReW8tslOgRSvQIJXqAEp3FtO8o0XDC4r1aif7UP0X1h8QpwCOU6J7HHhLtu7TNO6BQop2s7SPPCQ//lK22T9e438XShwa1DxO+90ANbPuurbyZZlj6UMWHrU9j8d7ek+j+f6cLY/rpjyfRF2yHxMInagefUq3z9kiUaB9ra5ptYYYaT4fuRW2frmFxkS+Jah8mTjjeAzWw7ruW8mabIf935cPW57F4b+9nortifXNozEt1+l5K9J30XqfektfWn+qY5+0QKdEe1tY6W38uTC6B/lJw8GRFbZ+uYXMxn/v2zvCG2h6ogXnfNZQ36ww3uXB2/9XG4r1iie4YQnoKbs/NITG+9n7cDb8eL5bL63oBsfs+MVzQo1sPF/OmeVVKdEfja7tltvQBe8RHeVDbp2vYXaRic157509e1fZADTbtu0bytmWG6+5Egb4Hi/fKJRosqPlWmjfyrORWF1wk8FCeCI7JSR0s3inRDlHzrTRv5FnJrS64SOChPBEck5M6WLxToh2i5ltp3sizkltdcJHAQ3kiOCYndbB4p0Q7RM230ryRZyW3uuAigYfyRHBMTupg8U6Jdoiab6V5I89KbnXBRQIP5YngmJzUweKdEu0QNd9K80aeldzqgosEHsoTwTE5qYPFOyXaIWq+leaNPCu51QUXCTyUJ4JjclIHi3dKtEPUfCvNG3lWcqsLLhJ4KE8Ex+SkDhbvlGiHqPlWmjfyrORWF1wk8FCeCI7JSR0s3inRDlHzrTRv5FnJrS64SOChPBEck5M6WLw/rEQDAAAAAHgl13HX4Em0Q9R8K80beVZyqwsuEngoTwTH5KQOFu+UaIeo+VaaN/Ks5FYXXCTwUJ4IjslJHSzeKdEOUfOtNG/kWcmtLrhI4KE8ERyTkzpYvFOiHaLmW2neyLOSW11wkcBDeSI4Jid1sHinRDtEzbfSvJFnJbe64CKBh/JEcExO6mDxTol2iJpvpXkjz0pudcFFAg/lieCYnNTB4p0S7RA130rzRp6V3OqCiwQeyhPBMTmpg8U7Jdohar6V5o08K7nVBRcJPJQngmNyUgeLd0q0Q9R8K80beVZyqwsuEngoTwTH5KQOFu+UaIeo+VaaN/Ks5FYXXCTwUJ4IjslJHSzeKdEOUfOtNG/kWcmtLrhI4KE8ERyTkzpYvFOiHaLmW2neyLOSW11wkcBDeSI4Jid1sHinRDtkq++Xb4fj/u05+1qLbJn3+W1/PBwOA/vj7in/vlaIvLZbZuvmuqzj+/El857W2LSWT7vj/jyvr/2aw+7i5fg+8XD49pJ5jx/U9kANtp2hbeRtywze7ryWsHh3WaL7kOx3x+fMawo84pBQKNHpMJlcNq/vzR8qkdfWOltfHib7/WZdG8W8lkOBfn8dv+Zvz86xuZjP/Xzc7esVm0egtgdqYD9D28mbdQaPd15LWLxToh1i8t1vpu6TaSJ+iU4H4qWIJFrPTuS1Nc3WF8rbS6AvFY2XKeu5mJ1twYMXLC7yezW/r72gtgdqYN13LeXNNoPPO68lLN6rluh+cYeLv2d6IMyKwRiM+fd4fjpjxeo7Mf+03T6mefv8ZJ7ULH29ESKvrWW2pQvAw8VgW8ulS7vOZf4o7neRngLeZnnp6z5Q2wM1sO27tvJmmsHpndcSFu/1SnT/6Xq6sF1Yh0/b/aJfPnmn4nx5r/rhYTskRjRK9GJGGn+iF3ltLbMtPm1zcDHYz8VcPtXK4/KHBs9PYNX2QA1sZ2hbebPM4PXOawmL93olelaUpzw/zS6KWQgo0ZZDYoQSTYmug2U2SvQIJXqEEj1Aic5iO0Mp0WDzXvdnovtD4BTQgesLIl0al9cp0SNm3z0aJXrxgmn84om8tpbZlva6hzPAtpZLl/nyJe+B+10sfWhQ+zDhew/UwLbv2sqbaQand15LWLxX/XGO3dWFcLkk+sNh+smJJ9FX2A6JEZESvVA6Ws9O5LW1nhO5pygenkZa1zI7m/OnSRYX+b2q9mHihOM9UAPrvmspb7YZfN55LWHxXqlEj0+Z80V5fjj0IZi+t/tkRYk20nbRyrHpUJx+Au8/kbddRCKvrXW2/jyY7PebdW0U81r2Z+H0MvS3Z+fYXMznHu4Nx8VRbQ/UwH6GtpM36wwe77yWsHiv+uMcacFPIR2YXxrj1/dvu/Tr8yEyeV3wk7j9kOjwdyFvmfc6Y+0fJpHXdstsfYk4r6OP8rBpLYciPc7suUB32F1c3wXez3u1PVCDR5yhtfO2ZQZvd15LWLzX/ZloMKHmW2neyLOSW11wkcBDeSI4Jid1sHinRDtEzbfSvJFnJbe64CKBh/JEcExO6mDxTol2iJpvpXkjz0pudcFFAg/lieCYnNTB4p0S7RA130rzRp6V3OqCiwQeyhPBMTmpg8U7Jdohar6V5o08K7nVBRcJPJQngmNyUgeLd0q0Q9R8K80beVZyqwsuEngoTwTH5KQOFu+UaIeo+VaaN/Ks5FYXXCTwUJ4IjslJHSzeKdEOUfOtNG/kWcmtLrhI4KE8ERyTkzpYvFOiHaLmW2neyLOSW11wkcBDeSI4Jid1sHinRDtEzbfSvJFnJbe64CKBh/JEcExO6mDx/rASDQAAAADglVzHXYMn0Q5R8600b+RZya0uuEjgoTwRHJOTOli8U6IdouZbad7Is5JbXXCRwEN5IjgmJ3WweKdEO0TNt9K8kWclt7rgIoGH8kRwTE7qYPFOiXaImm+leSPPSm51wUUCD+WJ4Jic1MHinRLtEDXfSvNGnpXc6oKLBB7KE8ExOamDxTsl2iFqvpXmjTwrudUFFwk8lCeCY3JSB4t3SrRD1HwrzRt5VnKrCy4SeChPBMfkpA4W75Roh6j5Vpo38qzkVhdcJPBQngiOyUkdLN4p0Q5R8600b+RZya0uuEjgoTwRHJOTOli8U6IdouZbad7Is5JbXXCRwEN5IjgmJ3WweKdEO0TNt9K8kWclt7rgIoGH8kRwTE7qYPFOiXaImm+leSPPSm51wUUCD+WJ4Jic1MHinRLtkE2+n3bH/eFwPAzs357z72uIbfl6Ob4f9sfdU+619oi8tttnez++5F5rFLV9uobdRbd/Lx4O314y7/HDlky8fJt4cLYXvpJN++7E89u+es62zND//c858XP3tYDFOyXaIWbfw8X8/jp+LV1QrV/Qm/L1+u7qIIm8tlvWMV0MIiXa6T5dw+ZiPvfzcbc/FQPHRdqaib5A73fH5+HXHvfDV7HlnGklY9YZbnLh7P6rjcU7Jdohmw7i+eHQX9htbzLLvNdPbeKXaA9re/9sw4V2XkeNEu11n65hcdEXgklxTKRiffmA4QtTJhbWPpsT2OB4cta4LNH5vZHfR5DD4r1yiZ5dklcLPQTibRpuv5fII3nkBvNwKdnzdULiSbSPtd2yjjpPov3u0zXud5Huhtun70tf94ElE0sliHKUZ8s54/pJdH/XZc7Ipa/DDRbvFUt0uhSmh2H/yfp8KKTXp4fE9eu6mHwvPslq/1LadCgqlGgna7tlHWVKtON9usb9LpY/NHh+AmvJxOK8lKMsW84ZzyV68UPV4pkCcyze65Xo7AHQHZzjYmcOUQ6NHpNvSnT+9caIvLZb1pESTYkeoUQPcB9m2XLOUKK1sXivVqLzCz49OCnRS9gOiaVLafmyaoVNh6JCiXaytlvWUaZEO96na9zvYulDg9qHieVytFiaxNlyzngu0Yv9iN70aSzeeRLtEOshkX2i4eBT6qZDUaJE+1jbLeuoU6L97tM1LC4+ftDiD1MmFtbe8xP5kmw5Z1yX6IW9wYetz2PxXvFnom+fKPSHwnmxKdFLmA+J/jCeOk2OW3+qs+lQFCnRHtZ2yzoqlWiv+3QNm4v53G0UnC1YM3F9N/rcD1/FlnPGd4nO5MLZ/Vcbi/eKJbpjCOzpoFz8r3NQom/YdEgMF/To3MPFvGlelRLd0fjabplNqkR3ONyna9hdpHtg9OD9yeuWTPRF+uyCe3CJTfvOeYnuSGflmBMK9D1YvFcu0WBBzbfSvJFnJbe64CKBh/JEcExO6mDxTol2iJpvpXkjz0pudcFFAg/lieCYnNTB4p0S7RA130rzRp6V3OqCiwQeyhPBMTmpg8U7Jdohar6V5o08K7nVBRcJPJQngmNyUgeLd0q0Q9R8K80beVZyqwsuEngoTwTH5KQOFu+UaIeo+VaaN/Ks5FYXXCTwUJ4IjslJHSzeKdEOUfOtNG/kWcmtLrhI4KE8ERyTkzpYvFOiHaLmW2neyLOSW11wkcBDeSI4Jid1sHinRDtEzbfSvJFnJbe64CKBh/JEcExO6mDxTol2iJpvpXkjz0pudcFFAg/lieCYnNTB4v1hJRoAAAAAwCu5jrsGT6IdouZbad7Is5JbXXCRwEN5IjgmJ3WweKdEO0TNt9K8kWclt7rgIoGH8kRwTE7qYPFOiXaImm+leSPPSm51wUUCD+WJ4Jic1MHinRLtEDXfSvNGnpXc6oKLBB7KE8ExOamDxTsl2iFqvpXmjTwrudUFFwk8lCeCY3JSB4t3SrRD1HwrzRt5VnKrCy4SeChPBMfkpA4W75Roh6j5Vpo38qzkVhdcJPBQngiOyUkdLN4p0Q5R8600b+RZya0uuEjgoTwRHJOTOli8U6IdouZbad7Is5JbXXCRwEN5IjgmJ3WweKdEO0TNt9K8kWclt7rgIoGH8kRwTE7qYPFOiXaImm+leSPPSm51wUUCD+WJ4Jic1MHinRLtEDXfSvNGnpXc6oKLBB7KE8ExOamDxXtbJfppd9wf9sfdU+Y1OLPJd+/4cDwM7N+e8+9riC3zPr/tz7MeHGRr6156+dbumm6ZrZvrso7vx5fMe1oj8lrei93Fy/H9vO4nvr1k3uMHtT1Qg237ro28bZ+BHmXB4r1iiX4+7vazS4IS/SnMG2wo0O+v49fSgdH6RW2dNxXoyWXz+n76ddv52n54xivRfXnY747Pw69v1rVRIq/lvdhczB2kO8NzkVbbAzWw77t28rbp7HBwz7WKxTsl2iGbDuL5geDAuW3edCBePjAk+stnchm1hmnW/tA8re1AqBK9kM9slhsj8lrei8VFfq/m97UX1PZADUyOT7SUN8sMfR7OZwc9yoLFe6USPXzCmy/4eFi8TS+S+aftFOrx9SiXzD3YDomlw6D9S8k0b19GMk9qlr7eCLa1HUlrGalEL33oaf3DUEfktbyX+11kHrKsft0HanugBrZ911beNp0dPIk2Y/He4JPoUzk+f7pO77n8el74Yl00n8Xke/GJc/uXkmXexQtm0UMbbDo8A5boxadtjX8Y6oi8lvdyv4v5WX/B8xNYtT1QA9u+aytvm84OSrQZi/fmf5xjWoZyxUjx07jJNyU6QYmuhmU2SjQlev4aJXqAEp3Ftu8o0WDz7qpE92E+Bf0GSvQnWDoklg+PVjDNu3TBNH7xbDo8Gy9eltmWPgx5+PAceS3v5X4XSx/u2//Qv4baHqiBbd+1lbdNZwcl2ozFu78n0U6fQDwS6wbLfqJu/Mlsh23e/IeD1i+eTYdnwBK9lE8PTyMjr+W9WFzk92p+X3tBbQ/UwLrvWsrbprODEm3G4r1iiU6HwD0l+jbQqYi3XIpKYN5gvd+pPx8X9aZDcfrU2cHhsunwbHw9t5wT0z1+s66NEnkt78XmYu5gOO8dF0e1PVAD+75rJ2+bzg5KtBmL96olOi32KaQn+mL3YYnuSEE//yiH4CfxTRtsKNKjPw+X9JZ502Uzztv+wbJpbYOW6I6+RJzX0Ud5iLyW92J3Eeu8V9sDNXjEvqudt00zUKLNWLzXLdFgQs230ryRZyW3uuAigYfyRHBMTupg8U6Jdoiab6V5I89KbnXBRQIP5YngmJzUweKdEu0QNd9K80aeldzqgosEHsoTwTE5qYPFOyXaIWq+leaNPCu51QUXCTyUJ4JjclIHi3dKtEPUfCvNG3lWcqsLLhJ4KE8Ex+SkDhbvlGiHqPlWmjfyrORWF1wk8FCeCI7JSR0s3inRDlHzrTRv5FnJrS64SOChPBEck5M6WLxToh2i5ltp3sizkltdcJHAQ3kiOCYndbB4p0Q7RM230ryRZyW3uuAigYfyRHBMTupg8U6Jdoiab6V5I89KbnXBRQIP5YngmJzUweL9YSUaAAAAAMAruY67Bk+iHaLmW2neyLOSW11wkcBDeSI4Jid1sHinRDtEzbfSvJFnJbe64CKBh/JEcExO6mDxTol2iJpvpXkjz0pudcFFAg/lieCYnNTB4p0S7RA130rzRp6V3OqCiwQeyhPBMTmpg8U7Jdohar6V5o08K7nVBRcJPJQngmNyUgeLd0q0Q9R8K80beVZyqwsuEngoTwTH5KQOFu+UaIeo+VaaN/Ks5FYXXCTwUJ4IjslJHSzeKdEOUfOtNG/kWcmtLrhI4KE8ERyTkzpYvFOiHaLmW2neyLOSW11wkcBDeSI4Jid1sHinRDtEzbfSvJFnJbe64CKBh/JEcExO6mDxTol2iJpvpXkjz0pudcFFAg/lieCYnNTB4p0S7RA130rzRp6V3OqCiwQeyhPBMTmpg8U7Jdohm3w/7Y77w+F4GNi/Peff1xBb5n1+259nPRz2x91T/n2tEHltt8/2fnzJvdYoavt0DbuLl+P7xMPh20vmPX7YkomXbxMPzvbCV7Jp3zWSty0zeLvzWsLiPU6Jfn0/BUbjYDH7Hi7m99fxa+nAaP2Cts6bDpNJJvqMtH2oRF7bLefEzVo6QG2frmFzMZ/7+bjb1ys2j8Caib5A73fH5+HXHvfDV2E/Z9rJm3UGj3deS1i8U6Idsukgnh8I/YUdsVimA/FSRBL9ITO5jFoj8treP9twiZ3WMaFRor3u0zUsLvJ7Nb+vvWDKxMLaZ3MC5n3XUt5sM/i881rC4r1iiR4W/C09dekvyX6hry/O60DMLtUxGH2Bnnw9+MHyyA3m4VIyzbv0oarxD1uR19Y2W+LmCYsD1PbpGve7SGf97dP3pa/7wJKJpRJEOcpj23dt5c00g9M7ryUs3quX6MshcCnI54viavGH188FOX3/OdxCQTH5XnyS1f6lZJl38YJp/Ile5LW1nRMJmRLteJ+ucb+L5Q8Nnp/AWjKxOC/lKIvtnGkrb5YZvN55LWHxXv9J9CS0tyHo3jMu/vPxeRaCq3BTotehRCco0dWwnRMJSjQleoQSPUCJzmI7ZyjRYPPuqEQP9AfHKdQjlOhPsnRILB8erWCadykPjeck8traZkvIlGjH+3SN+10sfWhQ+zCxXI4WS5M4tn3XVt5MMzi981rC4t1RiU7vn34i5En0fWQ/UTv4lPqofHW0fvFEXlvrbB06JdrvPl3D4iK/V9U+TJxYWPsaT0g9YN13LeXNNoPPO68lLN79lOibgyR9//kQ6V+nRK/SO5o6Tw5bf6qz6VCcZqL/oNV2EYm8tubZTtyspQPU9ukaNhfzudNTQc/F0ZqJvjBP7kaP++GrsJ8z7eTNOoPHO68lLN5d/ThHCsgp1D3vx93w6/R7DIHvXgv+qct+SJwYLujRo4eLecu815lp/zCJvLbb11GkRHc43Kdr2F2ke2L04P3J65ZM9EX67IICvcSmfddI3rafleMMFOh7sHivWKLBippvpXkjz0pudcFFAg/lieCYnNTB4p0S7RA130rzRp6V3OqCiwQeyhPBMTmpg8U7Jdohar6V5o08K7nVBRcJPJQngmNyUgeLd0q0Q9R8K80beVZyqwsuEngoTwTH5KQOFu+UaIeo+VaaN/Ks5FYXXCTwUJ4IjslJHSzeKdEOUfOtNG/kWcmtLrhI4KE8ERyTkzpYvFOiHaLmW2neyLOSW11wkcBDeSI4Jid1sHinRDtEzbfSvJFnJbe64CKBh/JEcExO6mDxTol2iJpvpXkjz0pudcFFAg/lieCYnNTB4p0S7RA130rzRp6V3OqCiwQeyhPBMTmpg8X7w0o0AAAAAIBXch13DZ5EO0TNt9K8kWclt7rgIoGH8kRwTE7qYPFOiXaImm+leSPPSm51wUUCD+WJ4Jic1MHinRLtEDXfSvNGnpXc6oKLBB7KE8ExOamDxTsl2iFqvpXmjTwrudUFFwk8lCeCY3JSB4t3SrRD1HwrzRt5VnKrCy4SeChPBMfkpA4W75Roh6j5Vpo38qzkVhdcJPBQngiOyUkdLN4p0Q5R8600b+RZya0uuEjgoTwRHJOTOli8U6IdouZbad7Is5JbXXCRwEN5IjgmJ3WweKdEO0TNt9K8kWclt7rgIoGH8kRwTE7qYPFOiXaImm+leSPPSm51wUUCD+WJ4Jic1MHinRLtEDXfSvNGnpXc6oKLBB7KE8ExOamDxTsl2iFqvpXmjTwrudUFFwk8lCeCY3JSB4v3xkr0y/H9cDi+v+Zeg5FNvp92x/3J8WFg//acf19DbJn3+W1/nvVw2B93T/n3tULktd0y28u3y1yHw/vxJfOe1lDbp2vYXaQ74bz2314y7/HD9kz4yH5NNjluJG9bZvB257WExTsl2iFm38PFfPGbfLd+QVvnTYfJ5NJ5fW/+UIm8ttbZ+gK93x2fh1/frGujqO3TNWwu5nM/H3f7esXmEZgzccJL7mtjd9xO3qwzeLzzWsLinRLtEKvvvozMD4T+wo5YLPNZ6g+ZSSFrjchra5ptYYbsvI2htk/XsLjI71Xfd8T9HoYid5o5QYn+COu+aylvthl83nktYfFeuUSnRR8PiPfX2xCkT1bjexYu0/H108Xj4XLdyiM3mIdLyTRv/wk8c+Esfb0RIq+tZbalC8DDxaC2T9e430Uqj7dP35e+7gNbJhLpLqREf4TNcVt5M83g9M5rCYv3iiU6XQrTcI6FeLwo+l9PL8rZP03kX6dEZ1l8ktX+pWSZd7FkNf5EL/LaWmZb/FDs4GJQ26dr3O9i+UOD5wclpkwMUKI/h81xW3mzzOD1zmsJi/d6JTp7CU6DnA91F+h0keReTxcNJToDJTpBia6GZTZK9AgleoQSnX8dEjbHlGiwea9WovMLPgnywsKfA/3R65OvReOxh8Ty4dEKpnmXSlbj5Svy2j7unFi5MBpCbZ+ucb+LpQ8Nah8mLlCiP4fNcVt5M83g9M5rCYt3nkQ7xHoQZz9gOPiUaps3n5/Wy1fktTXN5vjDsto+XcPi4sMHLVdf94E1Ex2U6M9hddxS3mwz+LzzWsLivemfib5Z/L54Xy6S/v03r7d/uW7FfBD3F/F0k92uQYtsOhSnl84sPy0SeW2ts833uZcyobZP17C5mM/t/yGJORMnvOS+NnbH7eTNOoPHO68lLN4rluiOFNq++J7gv87xObYcxOMFPTrzcDFvmfej/LRG5LXdMtvVPndSJNT26Rp2F9d3hPezfftZRon+iE37rpG8bc/JOAMF+h4s3iuX6I08nUrzVUDq/PzSV1PNdyWU5o08K7nVBRcJPJQngmNyUgeLd8clevjEuPLjHlFR22BK80aeldzqgosEHsoTwTE5qYPFu+8n0ePPLIn904XaBlOaN/Ks5FYXXCTwUJ4IjslJHSzenZdoTdR8K80beVZyqwsuEngoTwTH5KQOFu+UaIeo+VaaN/Ks5FYXXCTwUJ4IjslJHSzeKdEOUfOtNG/kWcmtLrhI4KE8ERyTkzpYvFOiHaLmW2neyLOSW11wkcBDeSI4Jid1sHinRDtEzbfSvJFnJbe64CKBh/JEcExO6mDxTol2iJpvpXkjz0pudcFFAg/lieCYnNTB4p0S7RA130rzRp6V3OqCiwQeyhPBMTmpg8X7w0o0AAAAAIBXch13DZ5EO0TNt9K8kWclt7rgIoGH8kRwTE7qYPFOiXaImm+leSPPSm51wUUCD+WJ4Jic1MHinRLtEDXfSvNGnpXc6oKLBB7KE8ExOamDxTsl2iFqvpXmjTwrudUFFwk8lCeCY3JSB4t3SrRD1HwrzRt5VnKrCy4SeChPBMfkpA4W75Roh6j5Vpo38qzkVhdcJPBQngiOyUkdLN4p0Q5R8600b+RZya0uuEjgoTwRHJOTOli8U6IdouZbad7Is5JbXXCRwEN5IjgmJ3WweKdEO0TNt9K8kWclt7rgIoGH8kRwTE7qYPFOiXaImm+leSPPSm51wUUCD+WJ4Jic1MHinRLtEDXfSvNGnpXc6oKLBB7KE8ExOamDxTsl2iFqvpXmjTwrudUFFwk8lCeCY3JSB4v3pkv0y7fD8fDtJftaSWr9uZ9lk++n3XF/OM03sH97zr+vIbbM+/y2P896OOyPu6f8+1oh8tpuma3fk+fZ3o8vmfe0hto+XWPzHm74PL4HtT1Qg0377kQLedu8X845af/OawmLd0p0hrAleriY31/Hr70c30+/bv2Cts6bDpPJZfP63vyhEnltrbP1+3G/Oz4Pv75Z10ZR26drmF387Pm427d9Ht+D2h6ogT1rHW3kzTqDxzuvJSzeKdEZopbo7Fz9hR2xWKbicSkiif6QmVxGrRF5bU2zLczQ+h7tUNuna9ztYvggcX6i1vhafxa1PVADu+N28mY7O3zeeS1h8V6xRA8L/nYd3mkAbg6J/lPV/L35T47Xn8jSnzV+3/yJTv/njK+ffp/WD6dHbrDlr7eDad4+K5knNUtfb4TIa2uZbekC8HAxqO3TNWwuOngS7XkP1MCetQ7HT6Kd3nktYfFevURfLe7sE/dVme2DcHntqiT33zcNyfTCmV8+6ddjke7/jOlB1P85bR/aJt8LTzPGQ6Plfyq2zLt4wSx6aIPIa2uZbfEDrYOLQW2frmFy0UOJ9rwHamDPWoffEu31zmsJi/f6T6JnT1amB8b0fz8/zS6Pq2DMLpjJ4ZIL1uVrH/8dWsTk2/HlrHSgRF5by2yU6JH29+kaJhc9bZSaR6G2B2pgz1pHG3mzzECJ3o7Fe3MlehqE28NjCHj3pLjnEoyl7+v/9/n9E7r3LoRr8dBqhEf6Xv56O5jmXbpgGr94Iq+tZbali2HxwmgItX26hs1FByXa8x6ogT1rHX5LtNc7ryUs3v08ie4OjGnhvSnA3e/X/Xr8v+nr/fctboiP/w4tYj0ksnM5+JT6yHy1fvFEXlvTbE4/6Hao7dM1rC4o0Scc74Ea2LPW4bhEO73zWsLiva2fie4/MV0Oi+khMT8wbkr1+J7u97wKzDxYwyYZ3tN/z/T9/d/h+s9qDfMh0R/GUxfJTev/RGydN2VkOV8tEnltrbPN9+jNujaK2j5dw+yCEt3jdQ/UwJ61Ds8l2ued1xIW7/WfRH/6v86R3j++b3/6vv7XmQJ8e9lcf+98g5zL9/Da9Z/bHpsOieGCHuf1cDFvmTcdKuO87R8mkdd2y2xXe9RJeVDbp2vYXVCiRzzugRps2nfOS3SHtzuvJSzem/txjk30JTr+4bLtkPCH0ryRZyW3uuAigYfyRHBMTupg8R6qRLf+BPlRqG0wpXkjz0pudcFFAg/lieCYnNTB4j1GiT7/06fGP3GpbTCleSPPSm51wUUCD+WJ4Jic1MHivWKJBitqvpXmjTwrudUFFwk8lCeCY3JSB4t3SrRD1HwrzRt5VnKrCy4SeChPBMfkpA4W75Roh6j5Vpo38qzkVhdcJPBQngiOyUkdLN4p0Q5R8600b+RZya0uuEjgoTwRHJOTOli8U6IdouZbad7Is5JbXXCRwEN5IjgmJ3WweKdEO0TNt9K8kWclt7rgIoGH8kRwTE7qYPFOiXaImm+leSPPSm51wUUCD+WJ4Jic1MHi/WElGgAAAADAK7mOuwZPoh2i5ltp3sizkltdcJHAQ3kiOCYndbB4p0Q7RM230ryRZyW3uuAigYfyRHBMTupg8U6Jdoiab6V5I89KbnXBRQIP5YngmJzUweKdEu0QNd9K80aeldzqgosEHsoTwTE5qYPFOyXaIWq+leaNPCu51QUXCTyUJ4JjclIHi3dKtEPUfCvNG3lWcqsLLhJ4KE8Ex+SkDhbvlGiHqPlWmjfyrORWF1wk8FCeCI7JSR0s3inRDlHzrTRv5FnJrS64SOChPBEck5M6WLxToh2i5ltp3sizkltdcJHAQ3kiOCYndbB4p0Q7RM230ryRZyW3uuAigYfyRHBMTupg8U6Jdoiab6V5I89KbnXBRQIP5YngmJzUweKdEu0QNd9K80aeldzqgosEHsoTwTE5qYPFe8US/XJ8PxyO76+512CNTRvsaXfcn7wfBvZvz/n3NcSWeZ/f9udZD4f9cfeUf18rRF7bLbO9fLvMdTi8H18y72kNtX26ht1FuifOa//tJfMeP2zPhI/s12ST40bytn2G9u+6FrF450m0Q8y+h4v58sElHRitX9DWeVOBnlw6r++nX7d9uEReW+tsfYHe747Pw69v1rVR1PbpGjYX87mfj7u97yJtzsQJL7mvjd1xO3nbkhMP91yrWLxToh1i9d2XkfmB0F/YEYtlOhDn/9LRX0STQtYakdfWNNvCDNl5G0Ntn65hcZHfq/l97YX7PQxF7jRzghL9EdZ911LeLDP058Y5J5RoCxbvzfw4R7o4dlcHhucnLyV5hO+Pv94Opnn7T+OZC2fp640QeW0tsy196Gn9w1CH2j5d434XqTze3gFLX/eBLROJPvOU6A+xOW4rb1tywpNoOxbvbZXo6cIThEVMvhefZLV/KVnmXSxZjT/Ri7y2ltkWnzg3/mGoQ22frnG/i+UPDYuZcIApEwOU6M9hc9xW3rbkhO5kx+K9sSfR06D6fvJSEpNvSnSCEl0Ny2yU6BFK9AglOv86JGyOKdFg806JdshjD4n2PZvmXSpZjZevyGtrmW3pw9Dih6SGUNuna9zvYulDg9qHiQuU6M9hc9xW3rbkhBJtx+KdEu0Q6wbLfqJu/MlsxyPyNdJ6+Yq8tqbZFmao8XToXtT26RoWF/m9qvZh4gIl+nNYHbeUty05oUTbsXinRDvEvMH6i3jqNDlu/anOpkNxeuk4OFwir611tv5smFxuXsqE2j5dw+ZiPnd6Ktj6h6c1zJk4QYn+HHbH7eRtS04o0XYs3inRDtm0wYYL2tN/AWXLvOniGedt/2CJvLZbZuvPh/NsPoqE2j5dw+4i3QPntXdcoDu2n2WU6I/YtO8aydumGSjRZizeK5ZosKLmW2neyLOSW11wkcBDeSI4Jid1sHinRDtEzbfSvJFnJbe64CKBh/JEcExO6mDxTol2iJpvpXkjz0pudcFFAg/lieCYnNTB4p0S7RA130rzRp6V3OqCiwQeyhPBMTmpg8U7Jdohar6V5o08K7nVBRcJPJQngmNyUgeLd0q0Q9R8K80beVZyqwsuEngoTwTH5KQOFu+UaIeo+VaaN/Ks5FYXXCTwUJ4IjslJHSzeKdEOUfOtNG/kWcmtLrhI4KE8ERyTkzpYvFOiHaLmW2neyLOSW11wkcBDeSI4Jid1sHinRDtEzbfSvJFnJbe64CKBh/JEcExO6mDx/rASDQAAAADglVzHXYMn0Q5R8600b+RZya0uuEjgoTwRHJOTOli8U6IdouZbad7Is5JbXXCRwEN5IjgmJ3WweKdEO0TNt9K8kWclt7rgIoGH8kRwTE7qYPFOiXaImm+leSPPSm51wUUCD+WJ4Jic1MHinRLtEDXfSvNGnpXc6oKLBB7KE8ExOamDxTsl2iFqvpXmjTwrudUFFwk8lCeCY3JSB4t3SrRD1HwrzRt5VnKrCy4SeChPBMfkpA4W75Roh6j5Vpo38qzkVhdcJPBQngiOyUkdLN4p0Q5R8600b+RZya0uuEjgoTwRHJOTOli8U6IdouZbad7Is5JbXXCRwEN5IjgmJ3WweKdEO0TNt9K8kWclt7rgIoGH8kRwTE7qYPFOiXaImm+leSPPSm51wUUCD+WJ4Jic1MHiPXyJfn7bHw/73fE585pXNvl+2h33h8PxMLB/e86/ryG2zNuv/3ne/XH3lH9fK0Re2y2zvXy7zHU4vB9fMu9pDbV9uobdxcvxfeLh8O0l8x4/qO2BGmzadyf6O6NyzrbM4O3OawmLd0q0Q8y+h4v5/XX8WrqgWr+grfOmw2Ry2by+N3+oRF5b62x9eZjs4Zt1bRS1fbqGzcV87ufjbn/KguMirbYHamDedz1tZMw6g8c7ryUs3inRDtl0EM8Ph/7Cjlgs0wV8KSKJ1vMQeW1Nsy3MkJ23MdT26RoWF/m9mt/XXlDbAzWwOz75HKns1XZ2+LzzWsLivXKJTos+Bvf9dR6C4VPh+J5pEMaD5a37pHV6bQh9+iR2ef/LTYBmv+dks4xh23WHU+b1VnjkBvNwKZnm7T+BZ57ULH29ESKvrWW2pQvAw8Wgtk/XuN9FOqdvn74vfd0HanugBrZ9N+L4SbTTO68lLN4rluh0KUwPw/6T9fmimId59v7xk+PkEOkPlWlYbt4zP4Cv/4z0/ZOLavj+1i4uk+/xQ8fNk6z2LyXLvIsXzKKHNoi8tpbZFp+2ObgY1PbpGve7WP7Q4PkJrNoeqIFp35257gS1sMzg9c5rCYv3eiU6dwD0i30p0c+zRb86TG6Ckb9kroKV+zMnX7sNYZsXl8m348tZ6UCJvLaW2SjRI+3v0zXud0GJHqFE34dp351J+4wSrYnFe7USnV/wzMHZHxSnUI8sluj8oTv9c/r/Pf29zgiU6MVLafmyagXTvEsXTOMXT+S1fdw5sfz1llDbp2vc72Lp7FX7MOF7D9TAtu9G/JZor3deS1i8N/wkOl0a0zA/5En0yqFzeyhFKtELTzQcfEq1zZsvHa1fPJHX1jTbwgwenkaq7dM1LC7ye1Xtw8QJx3ugBtZ9l3Bcop3eeS1h8d7uz0TfHByzUp05WPqwTIt5/57T95wDdFuK05+Zvid6iR59XDbZ7Rq0iHXemzz0H9zaLiKR19Y6W79HJ/vyZl0bRW2frmFzMZ+7jYKzBbU9UAPzvuvxXKJ93nktYfFesUR3DMV4YP5f50iBGF9/P+6GX+dLduZ7TofOh/91jvnBlHlvmBLdMX6wGPBwMW+Z9zpD7R8mkdd2y2zjB+yEj/Kgtk/XsLu4viO8P3lV2wM12LTvnJfoDm93XktYvFct0c+n0nwprCcWijFcs+2Q8IfSvJFnJbe64CKBh/JEcExO6mDxXvlnoq+fsMz/yQryqG0wpXkjz0pudcFFAg/lieCYnNTB4r3uj3PM/smSAv051DaY0ryRZyW3uuAigYfyRHBMTupg8V75Z6LBgppvpXkjz0pudcFFAg/lieCYnNTB4p0S7RA130rzRp6V3OqCiwQeyhPBMTmpg8X7Q0r0fr8//s///E/2NXg8ahtMad7Is5JbXXCRwEN5IjgmJ19P12G7Lpt7bY2HlOh//etfx1/96lfZ1+DxqG0wpXkjz0pudcFFAg/lieCYnHw9XYftumzutTUeUqJ/97vfHV9fX7OvweNR22BK80aeldzqgosEHsoTwTE5+Xq6Dtt12dxrazykRHd0Df7Pf/5z9jV4LGobTGneyLOSW11wkcBDeSI4JidfS9ddLU+hOx5Won/961/3f4muzXePxfkZ6XKobTCleSPPSm51wUUCD+WJ4JiclKfrqF1X7Tpr1127Dpt730c8rESPdI/Du79Q9wPaXRAAAAAAAFqh66hdV7X8CMeUh5doAAAAAIDoUKIBAAAAAO6EEg0AAAAAcCeUaAAAAACAO6FEAwAAAADcCSUaAAAAAOBOKNEAAAAAAHdCiQYAAAAAuBNKNAAAAADAnVCiAQAAAADuhBINAAAAAHAnlGgAAAAAgDuhRAMAAAAA3AklGgAAAADgLn52/D/yxIGxI+4njAAAAABJRU5ErkJggg==)\n",
        "\n",
        "Calculations:\n",
        "\n",
        "For example, the entry in the first row and second column represents the number of times \"cat\" co-occurs with \"sat\", which is 1.\n",
        "\n",
        "Similarly, the entry in the second row and first column represents the number of times \"sat\" co-occurs with \"cat\", which is also 1.\n",
        "\n",
        "Entries along the diagonal (e.g., \"cat\" with \"cat\") represent self-co-occurrences and are typically set to 0.\n",
        "\n",
        "#### Step 2 - Training GloVe Model:\n",
        "Let's assume we have 100-dimensional word vectors for each word in our vocabulary. For simplicity, let's consider the word vector for each word to be a vector of zeros initially.\n",
        "\n",
        "The loss function in GloVe measures the difference between predicted co-occurrences and actual co-occurrences.\n",
        "\n",
        "It aims to minimize this difference during training.\n",
        "One commonly used loss function in GloVe is the mean squared error (MSE) loss.\n",
        "\n",
        "Use optimization techniques such as gradient descent to adjust the word vectors in order to minimize the loss function.\n",
        "\n",
        "During each iteration of training, we update the word vectors based on the gradients of the loss function with respect to the word vectors.\n",
        "\n",
        "#### Step 3 - Word Vector Representation:\n",
        "\n",
        "After training, each word has an associated vector representation.\n",
        "For example, \"cat\" might have a vector [0.2, -0.5, 0.8] and \"dog\" might have [0.4, 0.3, -0.6].\n",
        "These vectors capture semantic relationships between words based on their co-occurrence patterns in the corpus.\n",
        "\n",
        "## Difference from Other Word Embedding Techniques:\n",
        "\n",
        "Unlike Word2Vec, which is based on neural network architectures (CBOW and Skip-gram), GloVe is a count-based method that directly models the co-occurrence statistics of words.\n",
        "\n",
        "GloVe typically requires less hyperparameter tuning compared to Word2Vec, making it easier to train.\n",
        "\n",
        "GloVe tends to perform well on tasks that involve capturing global word relationships and are less sensitive to training data size compared to Word2Vec.\n",
        "\n",
        "## Advantages:\n",
        "\n",
        "Captures global word co-occurrence patterns effectively.\n",
        "\n",
        "Produces meaningful word representations even for rare words.\n",
        "\n",
        "Robust to noisy data and works well with large corpora.\n",
        "\n",
        "## Disadvantages:\n",
        "\n",
        "Requires significant computational resources and memory for training on large datasets.\n",
        "\n",
        "Does not explicitly capture semantic relationships between words.\n",
        "\n",
        "May struggle with capturing syntactic nuances compared to neural network-based approaches like Word2Vec.\n",
        "\n",
        "## Applications:\n",
        "\n",
        "Natural language processing tasks such as text classification, sentiment analysis, and machine translation.\n",
        "\n",
        "Information retrieval systems for document similarity and relevance ranking.\n",
        "\n",
        "Generating word embeddings for downstream machine learning models, such as neural networks and support vector machines."
      ],
      "metadata": {
        "id": "t1JmBrlFxR1T"
      }
    },
    {
      "cell_type": "code",
      "source": [
        "!wget nlp.stanford.edu/data/glove.6B.zip"
      ],
      "metadata": {
        "colab": {
          "base_uri": "https://localhost:8080/"
        },
        "id": "JNkdUF99RMSz",
        "outputId": "2f8a639a-74f7-47eb-9fb1-146428320dac"
      },
      "execution_count": 1,
      "outputs": [
        {
          "output_type": "stream",
          "name": "stdout",
          "text": [
            "--2024-04-09 12:32:08--  http://nlp.stanford.edu/data/glove.6B.zip\n",
            "Resolving nlp.stanford.edu (nlp.stanford.edu)... 171.64.67.140\n",
            "Connecting to nlp.stanford.edu (nlp.stanford.edu)|171.64.67.140|:80... connected.\n",
            "HTTP request sent, awaiting response... 302 Found\n",
            "Location: https://nlp.stanford.edu/data/glove.6B.zip [following]\n",
            "--2024-04-09 12:32:09--  https://nlp.stanford.edu/data/glove.6B.zip\n",
            "Connecting to nlp.stanford.edu (nlp.stanford.edu)|171.64.67.140|:443... connected.\n",
            "HTTP request sent, awaiting response... 301 Moved Permanently\n",
            "Location: https://downloads.cs.stanford.edu/nlp/data/glove.6B.zip [following]\n",
            "--2024-04-09 12:32:09--  https://downloads.cs.stanford.edu/nlp/data/glove.6B.zip\n",
            "Resolving downloads.cs.stanford.edu (downloads.cs.stanford.edu)... 171.64.64.22\n",
            "Connecting to downloads.cs.stanford.edu (downloads.cs.stanford.edu)|171.64.64.22|:443... connected.\n",
            "HTTP request sent, awaiting response... 200 OK\n",
            "Length: 862182613 (822M) [application/zip]\n",
            "Saving to: ‘glove.6B.zip’\n",
            "\n",
            "glove.6B.zip        100%[===================>] 822.24M  5.16MB/s    in 2m 41s  \n",
            "\n",
            "2024-04-09 12:34:50 (5.11 MB/s) - ‘glove.6B.zip’ saved [862182613/862182613]\n",
            "\n"
          ]
        }
      ]
    },
    {
      "cell_type": "code",
      "source": [
        "!unzip glove*.zip"
      ],
      "metadata": {
        "colab": {
          "base_uri": "https://localhost:8080/"
        },
        "id": "w9E2rLl1RMWB",
        "outputId": "72f19c74-2e7a-419a-c00e-df68f08a7b26"
      },
      "execution_count": 2,
      "outputs": [
        {
          "output_type": "stream",
          "name": "stdout",
          "text": [
            "Archive:  glove.6B.zip\n",
            "  inflating: glove.6B.50d.txt        \n",
            "  inflating: glove.6B.100d.txt       \n",
            "  inflating: glove.6B.200d.txt       \n",
            "  inflating: glove.6B.300d.txt       \n"
          ]
        }
      ]
    },
    {
      "cell_type": "code",
      "source": [
        "import gensim\n",
        "from gensim.scripts.glove2word2vec import glove2word2vec"
      ],
      "metadata": {
        "id": "oBnK-z3WRMYy"
      },
      "execution_count": 3,
      "outputs": []
    },
    {
      "cell_type": "code",
      "source": [
        "glove_input_file = 'glove.6B.300d.txt'\n",
        "glove_output_file = 'word2vec.txt'\n",
        "glove2word2vec(glove_input_file,glove_output_file)"
      ],
      "metadata": {
        "colab": {
          "base_uri": "https://localhost:8080/"
        },
        "id": "YZ4w-IvtY_OS",
        "outputId": "e36f719c-7a41-47fb-9519-cf7ddf3e8ab7"
      },
      "execution_count": 4,
      "outputs": [
        {
          "output_type": "stream",
          "name": "stderr",
          "text": [
            "<ipython-input-4-8604527923fd>:3: DeprecationWarning: Call to deprecated `glove2word2vec` (KeyedVectors.load_word2vec_format(.., binary=False, no_header=True) loads GLoVE text vectors.).\n",
            "  glove2word2vec(glove_input_file,glove_output_file)\n"
          ]
        },
        {
          "output_type": "execute_result",
          "data": {
            "text/plain": [
              "(400000, 300)"
            ]
          },
          "metadata": {},
          "execution_count": 4
        }
      ]
    },
    {
      "cell_type": "code",
      "source": [
        "from gensim.models import KeyedVectors\n",
        "model = KeyedVectors.load_word2vec_format(glove_output_file, binary=False)"
      ],
      "metadata": {
        "id": "8yHcVRvFZ7A-"
      },
      "execution_count": 5,
      "outputs": []
    },
    {
      "cell_type": "code",
      "source": [
        "model['king']"
      ],
      "metadata": {
        "colab": {
          "base_uri": "https://localhost:8080/"
        },
        "id": "FxZkhwByaMss",
        "outputId": "02a58468-6204-4606-8263-cd5ad0637c85"
      },
      "execution_count": 6,
      "outputs": [
        {
          "output_type": "execute_result",
          "data": {
            "text/plain": [
              "array([ 0.0033901, -0.34614  ,  0.28144  ,  0.48382  ,  0.59469  ,\n",
              "        0.012965 ,  0.53982  ,  0.48233  ,  0.21463  , -1.0249   ,\n",
              "       -0.34788  , -0.79001  , -0.15084  ,  0.61374  ,  0.042811 ,\n",
              "        0.19323  ,  0.25462  ,  0.32528  ,  0.05698  ,  0.063253 ,\n",
              "       -0.49439  ,  0.47337  , -0.16761  ,  0.045594 ,  0.30451  ,\n",
              "       -0.35416  , -0.34583  , -0.20118  ,  0.25511  ,  0.091111 ,\n",
              "        0.014651 , -0.017541 , -0.23854  ,  0.48215  , -0.9145   ,\n",
              "       -0.36235  ,  0.34736  ,  0.028639 , -0.027065 , -0.036481 ,\n",
              "       -0.067391 , -0.23452  , -0.13772  ,  0.33951  ,  0.13415  ,\n",
              "       -0.1342   ,  0.47856  , -0.1842   ,  0.10705  , -0.45834  ,\n",
              "       -0.36085  , -0.22595  ,  0.32881  , -0.13643  ,  0.23128  ,\n",
              "        0.34269  ,  0.42344  ,  0.47057  ,  0.479    ,  0.074639 ,\n",
              "        0.3344   ,  0.10714  , -0.13289  ,  0.58734  ,  0.38616  ,\n",
              "       -0.52238  , -0.22028  , -0.072322 ,  0.32269  ,  0.44226  ,\n",
              "       -0.037382 ,  0.18324  ,  0.058082 ,  0.26938  ,  0.36202  ,\n",
              "        0.13983  ,  0.016815 , -0.34426  ,  0.4827   ,  0.2108   ,\n",
              "        0.75618  , -0.13092  , -0.025741 ,  0.43391  ,  0.33893  ,\n",
              "       -0.16438  ,  0.26817  ,  0.68774  ,  0.311    , -0.2509   ,\n",
              "        0.0027749, -0.39809  , -0.43399  ,  0.049531 , -0.42686  ,\n",
              "       -0.094679 ,  0.56925  ,  0.28742  , -0.015721 , -0.059162 ,\n",
              "        0.1912   , -0.59814  ,  0.65486  , -0.31363  ,  0.16881  ,\n",
              "        0.10862  ,  0.075316 ,  0.34093  , -0.14706  ,  0.8359   ,\n",
              "        0.39697  ,  0.52358  , -0.0096367, -0.14406  ,  0.37783  ,\n",
              "       -0.596    , -0.063192 , -0.85297  , -0.3098   , -1.0587   ,\n",
              "       -1.025    ,  0.4508   , -0.73324  , -1.2461   , -0.028488 ,\n",
              "        0.20299  ,  0.00259  ,  0.31995  ,  0.35744  ,  0.28533  ,\n",
              "        0.228    ,  0.50956  , -0.35942  ,  0.32683  ,  0.046264 ,\n",
              "       -0.86896  , -0.2707   , -0.15454  , -0.32152  ,  0.31121  ,\n",
              "        0.44134  ,  0.85189  ,  0.21065  , -0.13741  , -0.15359  ,\n",
              "       -0.059722 ,  0.027375 ,  0.23724  , -0.39197  , -0.66065  ,\n",
              "        0.23587  ,  0.032384 , -0.64043  ,  0.55004  ,  0.29597  ,\n",
              "        0.14989  ,  0.46079  , -0.26561  , -0.1607   , -0.36328  ,\n",
              "        1.0782   ,  0.31375  ,  0.1149   ,  0.20248  ,  0.032748 ,\n",
              "        0.41082  , -0.082536 ,  0.36606  ,  0.18771  ,  0.75415  ,\n",
              "        0.079648 ,  0.24181  , -0.60319  , -0.37296  , -0.047767 ,\n",
              "        0.45008  , -0.21135  ,  0.022251 , -0.084325 ,  0.18644  ,\n",
              "       -0.14682  ,  0.56571  , -0.30995  ,  0.17423  , -0.41122  ,\n",
              "       -0.84772  , -0.71114  ,  0.69895  , -0.13008  , -0.34195  ,\n",
              "       -0.30501  , -0.12646  ,  0.29957  , -0.43488  ,  0.31935  ,\n",
              "        0.2817   , -0.20631  , -0.48877  ,  0.34477  ,  0.03907  ,\n",
              "        1.6198   , -0.6352   , -0.0037675, -0.41271  ,  0.30704  ,\n",
              "       -0.50486  ,  0.036385 , -0.046386 , -0.12004  ,  0.010029 ,\n",
              "       -0.49116  ,  0.041486 ,  0.002979 , -0.57694  , -0.42088  ,\n",
              "       -0.063218 ,  0.0034244, -0.25093  , -0.39689  , -0.36984  ,\n",
              "        0.32689  ,  0.01385  ,  0.23634  , -0.055199 , -0.58453  ,\n",
              "        0.13211  ,  0.50943  ,  0.25198  , -0.0088309, -0.21273  ,\n",
              "       -0.48423  ,  0.5234   , -0.32832  , -0.013821 ,  0.15812  ,\n",
              "        0.46696  ,  0.036822 , -0.090878 ,  0.18854  ,  0.20794  ,\n",
              "       -0.42682  ,  0.59705  ,  0.53109  ,  0.19185  , -0.16392  ,\n",
              "        0.064956 , -0.36009  , -0.59882  , -0.28134  ,  0.1017   ,\n",
              "        0.02601  ,  0.44298  , -0.31922  , -0.22432  ,  0.7828   ,\n",
              "        0.041307 ,  0.1742   ,  0.27777  ,  0.43792  , -0.84324  ,\n",
              "        0.27012  , -0.21547  ,  0.52408  , -0.19426  , -0.21878  ,\n",
              "       -0.20713  ,  0.092994 , -0.15804  ,  0.28716  , -0.11911  ,\n",
              "       -0.20688  , -0.36482  ,  0.68548  , -0.10394  , -0.49974  ,\n",
              "       -0.47038  , -1.2953   , -0.46236  ,  0.44467  ,  0.13337  ,\n",
              "        0.88762  , -0.26494  ,  0.080676 , -0.20625  , -0.51232  ,\n",
              "        0.31112  ,  0.062035 ,  0.30302  , -0.33344  , -0.20924  ,\n",
              "       -0.17348  , -0.43434  , -0.45743  , -0.077803 , -0.33248  ,\n",
              "       -0.078633 ,  0.82182  ,  0.082088 , -0.68795  ,  0.30266  ],\n",
              "      dtype=float32)"
            ]
          },
          "metadata": {},
          "execution_count": 6
        }
      ]
    },
    {
      "cell_type": "code",
      "source": [
        "similar_words = model.most_similar('king')"
      ],
      "metadata": {
        "id": "q2O9yJMObr19"
      },
      "execution_count": 8,
      "outputs": []
    },
    {
      "cell_type": "code",
      "source": [
        "for sim_word, score in similar_words:\n",
        "    print(f\"Similarity between 'king' and '{sim_word}': {score}\")"
      ],
      "metadata": {
        "colab": {
          "base_uri": "https://localhost:8080/"
        },
        "id": "urL2295ocHje",
        "outputId": "a2865279-25dd-4b0d-f1a1-6a8768812740"
      },
      "execution_count": 9,
      "outputs": [
        {
          "output_type": "stream",
          "name": "stdout",
          "text": [
            "Similarity between 'king' and 'queen': 0.6336469054222107\n",
            "Similarity between 'king' and 'prince': 0.6196622848510742\n",
            "Similarity between 'king' and 'monarch': 0.5899620652198792\n",
            "Similarity between 'king' and 'kingdom': 0.5791266560554504\n",
            "Similarity between 'king' and 'throne': 0.5606487989425659\n",
            "Similarity between 'king' and 'ii': 0.5562329292297363\n",
            "Similarity between 'king' and 'iii': 0.5503199100494385\n",
            "Similarity between 'king' and 'crown': 0.5224862694740295\n",
            "Similarity between 'king' and 'reign': 0.5217353701591492\n",
            "Similarity between 'king' and 'kings': 0.5066401958465576\n"
          ]
        }
      ]
    }
  ]
}