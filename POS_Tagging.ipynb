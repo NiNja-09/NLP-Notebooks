{
  "nbformat": 4,
  "nbformat_minor": 0,
  "metadata": {
    "colab": {
      "provenance": [],
      "collapsed_sections": [
        "XZpmBQnJ5jKy"
      ]
    },
    "kernelspec": {
      "name": "python3",
      "display_name": "Python 3"
    },
    "language_info": {
      "name": "python"
    }
  },
  "cells": [
    {
      "cell_type": "markdown",
      "source": [
        "# Part of Speech(POS) Tagging\n",
        "Part-of-speech (POS) tagging is a fundamental task in natural language processing (NLP) that involves assigning a grammatical category (such as noun, verb, adjective, adverb, etc.) to each word in a sentence. POS tagging is crucial for many downstream NLP tasks as it provides valuable information about the syntactic structure and semantic meaning of text.\n",
        "\n",
        "POS tagging helps in:\n",
        "\n",
        "Parsing and understanding the grammatical structure of sentences.\n",
        "\n",
        "Disambiguating the meanings of words based on their context.\n",
        "\n",
        "Extracting features for various NLP tasks such as named entity recognition, sentiment analysis, and machine translation.\n",
        "\n",
        "### Common Tags\n",
        "Noun (NN)\n",
        "\n",
        "Verb (VB)\n",
        "\n",
        "Adjective (JJ)\n",
        "\n",
        "Adverb (RB)\n",
        "\n",
        "Pronoun (PRP)\n",
        "\n",
        "Determiner (DT)\n",
        "\n",
        "Conjunction (CC)\n",
        "\n",
        "Preposition (IN)\n",
        "\n",
        "Interjection (UH)\n",
        "\n",
        "Particle (RP)"
      ],
      "metadata": {
        "id": "MEQKon2HScdj"
      }
    },
    {
      "cell_type": "markdown",
      "source": [
        "### Using NLTK"
      ],
      "metadata": {
        "id": "k7i8IaX7Sttm"
      }
    },
    {
      "cell_type": "code",
      "execution_count": null,
      "metadata": {
        "colab": {
          "base_uri": "https://localhost:8080/"
        },
        "id": "YhYTV5xHSZsY",
        "outputId": "f1112153-d243-47bb-8af9-86e4b6d43dd1"
      },
      "outputs": [
        {
          "output_type": "stream",
          "name": "stderr",
          "text": [
            "[nltk_data] Downloading package punkt to /root/nltk_data...\n",
            "[nltk_data]   Package punkt is already up-to-date!\n",
            "[nltk_data] Downloading package averaged_perceptron_tagger to\n",
            "[nltk_data]     /root/nltk_data...\n",
            "[nltk_data]   Package averaged_perceptron_tagger is already up-to-\n",
            "[nltk_data]       date!\n",
            "[nltk_data] Downloading package stopwords to /root/nltk_data...\n",
            "[nltk_data]   Package stopwords is already up-to-date!\n"
          ]
        },
        {
          "output_type": "execute_result",
          "data": {
            "text/plain": [
              "True"
            ]
          },
          "metadata": {},
          "execution_count": 11
        }
      ],
      "source": [
        "import nltk\n",
        "nltk.download('punkt')\n",
        "nltk.download('averaged_perceptron_tagger')\n",
        "nltk.download('stopwords')"
      ]
    },
    {
      "cell_type": "code",
      "source": [
        "corpus = \"NLTK is a leading platform for building Python programs to work with human language data. SpaCy is a powerful library for natural language processing.\""
      ],
      "metadata": {
        "id": "OnTEuu4FSxkO"
      },
      "execution_count": null,
      "outputs": []
    },
    {
      "cell_type": "code",
      "source": [
        "words = nltk.word_tokenize(corpus)\n",
        "pos_tags = nltk.pos_tag(words)"
      ],
      "metadata": {
        "id": "58SwWCKjSxnR"
      },
      "execution_count": null,
      "outputs": []
    },
    {
      "cell_type": "code",
      "source": [
        "print(pos_tags)"
      ],
      "metadata": {
        "colab": {
          "base_uri": "https://localhost:8080/"
        },
        "id": "dv5JtV5qUK9n",
        "outputId": "b3ebe28c-534e-4475-c529-01211dbe994d"
      },
      "execution_count": null,
      "outputs": [
        {
          "output_type": "stream",
          "name": "stdout",
          "text": [
            "[('NLTK', 'NNP'), ('is', 'VBZ'), ('a', 'DT'), ('leading', 'VBG'), ('platform', 'NN'), ('for', 'IN'), ('building', 'VBG'), ('Python', 'NNP'), ('programs', 'NNS'), ('to', 'TO'), ('work', 'VB'), ('with', 'IN'), ('human', 'JJ'), ('language', 'NN'), ('data', 'NNS'), ('.', '.'), ('SpaCy', 'NNP'), ('is', 'VBZ'), ('a', 'DT'), ('powerful', 'JJ'), ('library', 'NN'), ('for', 'IN'), ('natural', 'JJ'), ('language', 'NN'), ('processing', 'NN'), ('.', '.')]\n"
          ]
        }
      ]
    },
    {
      "cell_type": "markdown",
      "source": [
        "#### POS Tagging (removing Stopwords)"
      ],
      "metadata": {
        "id": "XZpmBQnJ5jKy"
      }
    },
    {
      "cell_type": "code",
      "source": [
        "from nltk.corpus import stopwords\n",
        "\n",
        "words = nltk.word_tokenize(corpus)\n",
        "\n",
        "stop_words = set(stopwords.words('english'))\n",
        "\n",
        "filtered_corpus = [word for word in words if word.lower() not in stop_words]\n",
        "\n",
        "print(\"Filtered corpus:\", filtered_corpus)\n",
        "\n",
        "pos_tags = nltk.pos_tag(filtered_corpus)\n",
        "\n",
        "print(\"POS Tags after removing Stopwords: \",pos_tags)"
      ],
      "metadata": {
        "id": "QgAisKKcULAp",
        "colab": {
          "base_uri": "https://localhost:8080/"
        },
        "outputId": "d4a9b760-2953-4dbc-d9de-c58523889a86"
      },
      "execution_count": null,
      "outputs": [
        {
          "output_type": "stream",
          "name": "stdout",
          "text": [
            "Filtered corpus: ['NLTK', 'leading', 'platform', 'building', 'Python', 'programs', 'work', 'human', 'language', 'data', '.', 'SpaCy', 'powerful', 'library', 'natural', 'language', 'processing', '.']\n",
            "POS Tags after removing Stopwords:  [('NLTK', 'NNP'), ('leading', 'VBG'), ('platform', 'NN'), ('building', 'NN'), ('Python', 'NNP'), ('programs', 'NNS'), ('work', 'VBP'), ('human', 'JJ'), ('language', 'NN'), ('data', 'NNS'), ('.', '.'), ('SpaCy', 'NNP'), ('powerful', 'JJ'), ('library', 'JJ'), ('natural', 'JJ'), ('language', 'NN'), ('processing', 'NN'), ('.', '.')]\n"
          ]
        }
      ]
    },
    {
      "cell_type": "markdown",
      "source": [
        "### Using SpaCy"
      ],
      "metadata": {
        "id": "ko36U6_8SyAd"
      }
    },
    {
      "cell_type": "code",
      "source": [
        "import spacy\n",
        "nlp = spacy.load(\"en_core_web_sm\")"
      ],
      "metadata": {
        "id": "9AlAeSBHS0XN"
      },
      "execution_count": null,
      "outputs": []
    },
    {
      "cell_type": "code",
      "source": [
        "corpus = \"NLTK is a leading platform for building Python programs to work with human language data. SpaCy is a powerful library for natural language processing.\""
      ],
      "metadata": {
        "id": "4H4FMoB1UdgH"
      },
      "execution_count": null,
      "outputs": []
    },
    {
      "cell_type": "code",
      "source": [
        "doc = nlp(corpus)\n",
        "pos_tags = [(words.text, words.pos_) for words in doc]"
      ],
      "metadata": {
        "id": "29cH_t7PTIGP"
      },
      "execution_count": null,
      "outputs": []
    },
    {
      "cell_type": "code",
      "source": [
        "print(pos_tags)"
      ],
      "metadata": {
        "id": "oSNdVQvlUkOu",
        "outputId": "fff8c0b0-f1c4-433c-81d8-5834d8ad969d",
        "colab": {
          "base_uri": "https://localhost:8080/"
        }
      },
      "execution_count": null,
      "outputs": [
        {
          "output_type": "stream",
          "name": "stdout",
          "text": [
            "[('NLTK', 'PROPN'), ('is', 'AUX'), ('a', 'DET'), ('leading', 'VERB'), ('platform', 'NOUN'), ('for', 'ADP'), ('building', 'VERB'), ('Python', 'PROPN'), ('programs', 'NOUN'), ('to', 'PART'), ('work', 'VERB'), ('with', 'ADP'), ('human', 'ADJ'), ('language', 'NOUN'), ('data', 'NOUN'), ('.', 'PUNCT'), ('SpaCy', 'PROPN'), ('is', 'AUX'), ('a', 'DET'), ('powerful', 'ADJ'), ('library', 'NOUN'), ('for', 'ADP'), ('natural', 'ADJ'), ('language', 'NOUN'), ('processing', 'NOUN'), ('.', 'PUNCT')]\n"
          ]
        }
      ]
    },
    {
      "cell_type": "markdown",
      "source": [
        "#### POS Tagging (removing Stopwords) using spaCy"
      ],
      "metadata": {
        "id": "2Z773mTz5wFj"
      }
    },
    {
      "cell_type": "code",
      "source": [
        "corpus = \"NLTK is a leading platform for building Python programs to work with human language data. SpaCy is a powerful library for natural language processing.\"\n",
        "\n",
        "doc = nlp(corpus)\n",
        "\n",
        "filtered_corpus = [words for words in doc if not words.is_stop]\n",
        "print(\"Filtered corpus:\", filtered_corpus)\n",
        "\n",
        "\n",
        "print(\"POS Tags after removing Stopwords: \")\n",
        "for word in filtered_corpus:\n",
        "    print(word.text +\":\"+ word.pos_)"
      ],
      "metadata": {
        "id": "2Ke4M8ppUl3n",
        "colab": {
          "base_uri": "https://localhost:8080/"
        },
        "outputId": "cf510826-3840-413e-ad84-13a7f919e418"
      },
      "execution_count": null,
      "outputs": [
        {
          "output_type": "stream",
          "name": "stdout",
          "text": [
            "Filtered corpus: [NLTK, leading, platform, building, Python, programs, work, human, language, data, ., SpaCy, powerful, library, natural, language, processing, .]\n",
            "POS Tags after removing Stopwords: \n",
            "NLTK:PROPN\n",
            "leading:VERB\n",
            "platform:NOUN\n",
            "building:VERB\n",
            "Python:PROPN\n",
            "programs:NOUN\n",
            "work:VERB\n",
            "human:ADJ\n",
            "language:NOUN\n",
            "data:NOUN\n",
            ".:PUNCT\n",
            "SpaCy:PROPN\n",
            "powerful:ADJ\n",
            "library:NOUN\n",
            "natural:ADJ\n",
            "language:NOUN\n",
            "processing:NOUN\n",
            ".:PUNCT\n"
          ]
        }
      ]
    },
    {
      "cell_type": "code",
      "source": [],
      "metadata": {
        "id": "E-9O_LzF6M4c"
      },
      "execution_count": null,
      "outputs": []
    }
  ]
}