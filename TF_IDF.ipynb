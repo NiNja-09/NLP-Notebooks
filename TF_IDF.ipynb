{
  "nbformat": 4,
  "nbformat_minor": 0,
  "metadata": {
    "colab": {
      "provenance": []
    },
    "kernelspec": {
      "name": "python3",
      "display_name": "Python 3"
    },
    "language_info": {
      "name": "python"
    }
  },
  "cells": [
    {
      "cell_type": "markdown",
      "source": [
        "# TF-IDF\n",
        "TF-IDF, which stands for Term Frequency-Inverse Document Frequency, is a statistical measure used in Natural Language Processing (NLP) to evaluate the importance of a word in a document relative to a collection of documents. It combines two components: term frequency (TF) and inverse document frequency (IDF).\n",
        "\n",
        "### Term Frequency (TF):\n",
        "\n",
        "TF measures how frequently a term occurs in a document relative to the total number of words in that document.\n",
        "\n",
        "It is calculated using the formula:\n",
        "\n",
        "\n",
        "               Number of occurrences of the term in the document\n",
        "    TF =      ____________________________________________________\n",
        "                     Total number of terms in the document\n",
        "\n",
        "\n",
        "### Inverse Document Frequency (IDF):\n",
        "\n",
        "IDF measures the rarity of a term across a collection of documents.\n",
        "It is calculated using the formula:\n",
        "\n",
        "\n",
        "                        Number of documents containing the term\n",
        "        IDF =   loge   _________________________________________\n",
        "                              Total number of documents\n",
        "​\n",
        "### TF-IDF Calculation:\n",
        "\n",
        "TF-IDF is calculated by multiplying the TF of a term by its IDF.\n",
        "It gives higher weight to terms that appear frequently in a specific document but infrequently across all documents.\n",
        "\n",
        "### Example:\n",
        "\n",
        "Consider a collection of documents:\n",
        "\n",
        "Document 1: \"The cat sat on the mat.\"\n",
        "Document 2: \"The dog played in the garden.\"\n",
        "Let's calculate TF-IDF for the term \"cat\":\n",
        "\n",
        "TF for \"cat\" in Document 1: 1/6\n",
        "\n",
        "IDF for \"cat\" across both documents: loge (2/1) =0.693\n",
        "\n",
        "TF-IDF for \"cat\" in Document 1:  (1/6) * 0.693 ≈ 0.1155\n",
        "\n",
        "### Usage:\n",
        "\n",
        "TF-IDF is used in information retrieval, text mining, and document classification tasks.\n",
        "\n",
        "It helps in identifying important words in a document or corpus.\n",
        "\n",
        "It can be used to extract keywords, rank documents, or perform similarity searches.\n",
        "\n",
        "### Advantages:\n",
        "\n",
        "Provides a fixed-size input suitable for machine learning algorithms.\n",
        "\n",
        "Captures the importance of words by considering both their frequency in the document and their rarity across the document collection.\n",
        "\n",
        "### Disadvantages:\n",
        "\n",
        "May result in a sparse matrix representation, especially for large vocabularies.\n",
        "\n",
        "Out-of-vocabulary (OOV) words may not be handled effectively.\n",
        "\n",
        "Does not capture semantic relationships between words.\n",
        "\n",
        "### N-grams:\n",
        "\n",
        "N-grams can be incorporated into TF-IDF to capture semantic information and contextual relationships between words, enhancing its effectiveness in certain tasks."
      ],
      "metadata": {
        "id": "jOEXhAu6Apke"
      }
    },
    {
      "cell_type": "markdown",
      "source": [
        "## Using NLTK:"
      ],
      "metadata": {
        "id": "biHqJf5MHaKo"
      }
    },
    {
      "cell_type": "code",
      "execution_count": null,
      "metadata": {
        "colab": {
          "base_uri": "https://localhost:8080/"
        },
        "id": "wf2RoaMZ_sVV",
        "outputId": "543a0544-8e30-4218-f35b-592b6ed39bd1"
      },
      "outputs": [
        {
          "output_type": "stream",
          "name": "stderr",
          "text": [
            "[nltk_data] Downloading package punkt to /root/nltk_data...\n",
            "[nltk_data]   Package punkt is already up-to-date!\n",
            "[nltk_data] Downloading package stopwords to /root/nltk_data...\n",
            "[nltk_data]   Package stopwords is already up-to-date!\n",
            "[nltk_data] Downloading package wordnet to /root/nltk_data...\n",
            "[nltk_data]   Package wordnet is already up-to-date!\n"
          ]
        },
        {
          "output_type": "execute_result",
          "data": {
            "text/plain": [
              "True"
            ]
          },
          "metadata": {},
          "execution_count": 47
        }
      ],
      "source": [
        "import nltk\n",
        "from nltk.corpus import stopwords\n",
        "from nltk.tokenize import word_tokenize\n",
        "from nltk.stem import WordNetLemmatizer\n",
        "from sklearn.feature_extraction.text import TfidfVectorizer\n",
        "nltk.download('punkt')\n",
        "nltk.download('stopwords')\n",
        "nltk.download('wordnet')"
      ]
    },
    {
      "cell_type": "code",
      "source": [
        "documents = [\n",
        "    \"The cat sat on the mat.\",\n",
        "    \"The dog played in the garden.\"\n",
        "]"
      ],
      "metadata": {
        "id": "56TyX6PCHflx"
      },
      "execution_count": null,
      "outputs": []
    },
    {
      "cell_type": "code",
      "source": [
        "tokenized_documents = [word_tokenize(doc.lower()) for doc in documents]\n",
        "tokenized_documents"
      ],
      "metadata": {
        "colab": {
          "base_uri": "https://localhost:8080/"
        },
        "id": "UJoPf4u_Hfop",
        "outputId": "652447aa-3d64-4dee-de09-e0f66dcdf3df"
      },
      "execution_count": null,
      "outputs": [
        {
          "output_type": "execute_result",
          "data": {
            "text/plain": [
              "[['the', 'cat', 'sat', 'on', 'the', 'mat', '.'],\n",
              " ['the', 'dog', 'played', 'in', 'the', 'garden', '.']]"
            ]
          },
          "metadata": {},
          "execution_count": 49
        }
      ]
    },
    {
      "cell_type": "code",
      "source": [
        "# Remove stopwords and lemmatize tokens\n",
        "stop_words = set(stopwords.words('english'))\n",
        "lemmatizer = WordNetLemmatizer()\n",
        "filtered_documents = [[lemmatizer.lemmatize(word) for word in doc if word not in stop_words] for doc in tokenized_documents]"
      ],
      "metadata": {
        "id": "_b21Po7xHfro"
      },
      "execution_count": null,
      "outputs": []
    },
    {
      "cell_type": "code",
      "source": [
        "filtered_documents"
      ],
      "metadata": {
        "colab": {
          "base_uri": "https://localhost:8080/"
        },
        "id": "bbD2nv6dIcPx",
        "outputId": "01bc89a4-f7ff-4d02-b414-7e32d9d03d86"
      },
      "execution_count": null,
      "outputs": [
        {
          "output_type": "execute_result",
          "data": {
            "text/plain": [
              "[['cat', 'sat', 'mat', '.'], ['dog', 'played', 'garden', '.']]"
            ]
          },
          "metadata": {},
          "execution_count": 51
        }
      ]
    },
    {
      "cell_type": "code",
      "source": [
        "# Convert the filtered documents back to strings\n",
        "preprocessed_documents = [' '.join(doc) for doc in filtered_documents]\n",
        "preprocessed_documents"
      ],
      "metadata": {
        "colab": {
          "base_uri": "https://localhost:8080/"
        },
        "id": "-Da4wyLmICJc",
        "outputId": "b1322228-0d33-40b3-c23c-431292fe6ec3"
      },
      "execution_count": null,
      "outputs": [
        {
          "output_type": "execute_result",
          "data": {
            "text/plain": [
              "['cat sat mat .', 'dog played garden .']"
            ]
          },
          "metadata": {},
          "execution_count": 52
        }
      ]
    },
    {
      "cell_type": "code",
      "source": [
        "# Calculate TF-IDF using TfidfVectorizer\n",
        "tfidf_vectorizer = TfidfVectorizer()\n",
        "tfidf_representation = tfidf_vectorizer.fit_transform(preprocessed_documents)"
      ],
      "metadata": {
        "id": "-yqoDmNRICS6"
      },
      "execution_count": null,
      "outputs": []
    },
    {
      "cell_type": "code",
      "source": [
        "print(\"Vocabulary:\", tfidf_vectorizer.get_feature_names_out())"
      ],
      "metadata": {
        "colab": {
          "base_uri": "https://localhost:8080/"
        },
        "id": "RwuQW9d1IOeZ",
        "outputId": "343d8c4d-3f5f-4ce0-a660-c37b1f7cdf5b"
      },
      "execution_count": null,
      "outputs": [
        {
          "output_type": "stream",
          "name": "stdout",
          "text": [
            "Vocabulary: ['cat' 'dog' 'garden' 'mat' 'played' 'sat']\n"
          ]
        }
      ]
    },
    {
      "cell_type": "code",
      "source": [
        "print(\"TF-IDF matrix:\")\n",
        "print(tfidf_representation.toarray())"
      ],
      "metadata": {
        "colab": {
          "base_uri": "https://localhost:8080/"
        },
        "id": "zSkTyneFIOjz",
        "outputId": "b54d3504-a434-450e-e56a-73cf50f7da89"
      },
      "execution_count": null,
      "outputs": [
        {
          "output_type": "stream",
          "name": "stdout",
          "text": [
            "TF-IDF matrix:\n",
            "[[0.57735027 0.         0.         0.57735027 0.         0.57735027]\n",
            " [0.         0.57735027 0.57735027 0.         0.57735027 0.        ]]\n"
          ]
        }
      ]
    },
    {
      "cell_type": "code",
      "source": [
        "tfidf_vectorizer.vocabulary_"
      ],
      "metadata": {
        "colab": {
          "base_uri": "https://localhost:8080/"
        },
        "id": "ZSaOiQAdKhmV",
        "outputId": "846d1541-5736-4c31-8068-05449e8e1fde"
      },
      "execution_count": null,
      "outputs": [
        {
          "output_type": "execute_result",
          "data": {
            "text/plain": [
              "{'cat': 0, 'sat': 5, 'mat': 3, 'dog': 1, 'played': 4, 'garden': 2}"
            ]
          },
          "metadata": {},
          "execution_count": 56
        }
      ]
    },
    {
      "cell_type": "markdown",
      "source": [
        "### NGram"
      ],
      "metadata": {
        "id": "6h-4HRMIKJZQ"
      }
    },
    {
      "cell_type": "code",
      "source": [
        "# Calculate TF-IDF using TfidfVectorizer\n",
        "tfidf_vectorizer = TfidfVectorizer(ngram_range=(2,2), max_features = 10)\n",
        "tfidf_representation = tfidf_vectorizer.fit_transform(preprocessed_documents)\n",
        "print(\"Vocabulary:\", tfidf_vectorizer.get_feature_names_out())\n",
        "print(\"TF-IDF matrix:\")\n",
        "print(tfidf_representation.toarray())"
      ],
      "metadata": {
        "colab": {
          "base_uri": "https://localhost:8080/"
        },
        "id": "H7tKNOytKLAJ",
        "outputId": "802ee275-59ac-43c1-ccf0-e3d188c914e7"
      },
      "execution_count": null,
      "outputs": [
        {
          "output_type": "stream",
          "name": "stdout",
          "text": [
            "Vocabulary: ['cat sat' 'dog played' 'played garden' 'sat mat']\n",
            "TF-IDF matrix:\n",
            "[[0.70710678 0.         0.         0.70710678]\n",
            " [0.         0.70710678 0.70710678 0.        ]]\n"
          ]
        }
      ]
    },
    {
      "cell_type": "code",
      "source": [
        "tfidf_vectorizer.vocabulary_"
      ],
      "metadata": {
        "colab": {
          "base_uri": "https://localhost:8080/"
        },
        "id": "9J8GDJzoKb-D",
        "outputId": "be46fdff-f503-4706-ea32-7683370a3bd5"
      },
      "execution_count": null,
      "outputs": [
        {
          "output_type": "execute_result",
          "data": {
            "text/plain": [
              "{'cat sat': 0, 'sat mat': 3, 'dog played': 1, 'played garden': 2}"
            ]
          },
          "metadata": {},
          "execution_count": 58
        }
      ]
    },
    {
      "cell_type": "markdown",
      "source": [
        "## Using spaCy:"
      ],
      "metadata": {
        "id": "edOAQMjJHdLs"
      }
    },
    {
      "cell_type": "code",
      "source": [
        "import spacy\n",
        "# Load the English language model in SpaCy\n",
        "nlp = spacy.load(\"en_core_web_sm\")"
      ],
      "metadata": {
        "id": "Rz3t1jKeHe-t"
      },
      "execution_count": null,
      "outputs": []
    },
    {
      "cell_type": "code",
      "source": [
        "documents = [\n",
        "    \"I enjoy reading books.\",\n",
        "    \"Books are a great source of knowledge.\"\n",
        "]"
      ],
      "metadata": {
        "id": "-qpoLHOwIxEE"
      },
      "execution_count": null,
      "outputs": []
    },
    {
      "cell_type": "code",
      "source": [
        "# Tokenize and preprocess the documents using spaCy\n",
        "tokenized_documents = [[token.text.lower() for token in nlp(doc)] for doc in documents]\n",
        "tokenized_documents"
      ],
      "metadata": {
        "colab": {
          "base_uri": "https://localhost:8080/"
        },
        "id": "YKH69kEmIzsk",
        "outputId": "fca1f8b4-621a-4799-ce0c-7ad9a1ad6273"
      },
      "execution_count": null,
      "outputs": [
        {
          "output_type": "execute_result",
          "data": {
            "text/plain": [
              "[['i', 'enjoy', 'reading', 'books', '.'],\n",
              " ['books', 'are', 'a', 'great', 'source', 'of', 'knowledge', '.']]"
            ]
          },
          "metadata": {},
          "execution_count": 61
        }
      ]
    },
    {
      "cell_type": "code",
      "source": [
        "# Convert the tokenized documents back to strings\n",
        "preprocessed_documents = [' '.join(doc) for doc in tokenized_documents]\n",
        "preprocessed_documents"
      ],
      "metadata": {
        "colab": {
          "base_uri": "https://localhost:8080/"
        },
        "id": "vdY637eII2Vk",
        "outputId": "0d8d4fa9-3959-44f8-a89e-2b8ec1860d77"
      },
      "execution_count": null,
      "outputs": [
        {
          "output_type": "execute_result",
          "data": {
            "text/plain": [
              "['i enjoy reading books .', 'books are a great source of knowledge .']"
            ]
          },
          "metadata": {},
          "execution_count": 62
        }
      ]
    },
    {
      "cell_type": "code",
      "source": [
        "# Calculate TF-IDF using TfidfVectorizer\n",
        "tfidf_vectorizer = TfidfVectorizer(max_features = 5)\n",
        "tfidf_representation = tfidf_vectorizer.fit_transform(preprocessed_documents)"
      ],
      "metadata": {
        "id": "4ogu64NDI4cc"
      },
      "execution_count": null,
      "outputs": []
    },
    {
      "cell_type": "code",
      "source": [
        "print(\"Vocabulary:\", tfidf_vectorizer.get_feature_names_out())"
      ],
      "metadata": {
        "colab": {
          "base_uri": "https://localhost:8080/"
        },
        "id": "DTI5hPyWI6LE",
        "outputId": "eb98d938-8fd3-4517-f61f-3c9bcd6b0b95"
      },
      "execution_count": null,
      "outputs": [
        {
          "output_type": "stream",
          "name": "stdout",
          "text": [
            "Vocabulary: ['are' 'books' 'enjoy' 'great' 'knowledge']\n"
          ]
        }
      ]
    },
    {
      "cell_type": "code",
      "source": [
        "print(\"TF-IDF matrix:\")\n",
        "print(tfidf_representation.toarray())"
      ],
      "metadata": {
        "colab": {
          "base_uri": "https://localhost:8080/"
        },
        "id": "fgr-Fb1HI9Ls",
        "outputId": "fe4c7df0-2a12-4d08-f139-e99858a78fe7"
      },
      "execution_count": null,
      "outputs": [
        {
          "output_type": "stream",
          "name": "stdout",
          "text": [
            "TF-IDF matrix:\n",
            "[[0.         0.57973867 0.81480247 0.         0.        ]\n",
            " [0.53404633 0.37997836 0.         0.53404633 0.53404633]]\n"
          ]
        }
      ]
    },
    {
      "cell_type": "code",
      "source": [
        "tfidf_vectorizer.vocabulary_"
      ],
      "metadata": {
        "colab": {
          "base_uri": "https://localhost:8080/"
        },
        "id": "1RIYIT0tJ0Oc",
        "outputId": "7da20d3f-06cc-4053-8e0a-a252743a9b40"
      },
      "execution_count": null,
      "outputs": [
        {
          "output_type": "execute_result",
          "data": {
            "text/plain": [
              "{'enjoy': 2, 'books': 1, 'are': 0, 'great': 3, 'knowledge': 4}"
            ]
          },
          "metadata": {},
          "execution_count": 66
        }
      ]
    }
  ]
}